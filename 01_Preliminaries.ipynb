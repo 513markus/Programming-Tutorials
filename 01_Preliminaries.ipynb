{
 "cells": [
  {
   "cell_type": "markdown",
   "metadata": {},
   "source": [
    "# Table of contents\n",
    "**!¡!¡ Missing**"
   ]
  },
  {
   "cell_type": "markdown",
   "metadata": {},
   "source": [
    "# Resources\n",
    "**!¡!¡ The whole section needs to be re-written in order to speak to anybody that is learning how to program, not only students in this course.**\n",
    "\n",
    "## Sildes\n",
    "A deck of [slides](https://fronter.com/unisg/links/files.phtml/5a9d3997af2f5.1247007747$1023459548$/Archiv/Slides/Slides_Students.pdf) can be found on StudyNet. The presentation will be continiously updated throughout the course. Make sure to download the newest version.\n",
    "\n",
    "**!¡!¡ A solution to link class slides needs to be found**\n",
    "\n",
    "## Course Literature – [quantecon.org](https://lectures.quantecon.org/py/):\n",
    "The website quantecon.org contains all relevant literature for this course. It contains lectures on quantitative economics in the programming languages Python and Julia. The main topics of the course are similar to the ones covered by Sargent and Stachurski. \n",
    "\n",
    "If you prefer a book can download the [pdf](http://quant-econ.net/_static/pdfs/py-quant-econ.pdf) of Sargent and Stachurskis containing all lecture notes. The lecture notes contain many different topics and complicated topics. Since the authors Sargent and Stachurskis dive into complicated topics fairly quickly, I suggest using them as a reference alongside Google to prepare or review topics covered in class.\n",
    "\n",
    "## Additional Resources\n",
    "\n",
    "### Basics of Programming – [Codecademy](https://www.codecademy.com/learn/learn-python):\n",
    "If you are new to programming, you may find it helpful to do an online programming course to grasp the underlying logic and write your first small programs. I suggest codecademy, which will allow you to write and run code in your browser giving you short explanations and a small task to all basic concepts.\n",
    "\n",
    "### Statistical Models – Online Courses/Videos:\n",
    "For additional inputs on the statistical concepts that will be covered on quantecon.org, YouTube can provide you with explanations. Alternatively, online courses such as the [Udemy Machine Learning](https://www.udemy.com/machinelearning/)  course have a number short videos to give you an intuitive explanation of each concept. Further videos explain how to implement the model in R and Python. The Udemy online course costs $12. There is a vast number of free or paid online courses on the internet. Google it.\n",
    "\n",
    "<div class=\"alert alert-block alert-info\">\n",
    "**Machine Learning** was defined by Tom Mitchell as follows:\n",
    "“A computer program is said to learn from experience **E** with respect to some class of tasks **T** and performance measure **P**, if its performance at tasks in **T**, as measured by **P**, improves with experience **E**.” \n",
    "In simpler terms, a computer can improve at performing a task e.g. recognizing handwritten digits by learning how a handwritten digit looks like i.e. getting to know a dataset. [Mitchell, 1997]\n",
    "</div>\n",
    "\n",
    "### While writing code – [Stack Overflow](www.stackoverflow.com):\n",
    "Whenever you encounter a problem writing code, Google or the help function are your best guess. First, try to understand the error message. This takes some practice, but you will get better over time. Your next step should be to either call the help function if for example, you are unsure which inputs a certain function needs. Otherwise, you can google the error message. If you google you might want to add the language you code into your search request. In our case, this is “Python 3” \n",
    "\n",
    "<div class=\"alert alert-block alert-info\">\n",
    "Since Python is an open source programming language there is a large community constantly improving it and writing packages. While we are now working in Python 3.6, Python 2.7 is an earlier version, which solves certain issues differently. Keep this in mind if you research a problem.\n",
    "</div>\n",
    "\n",
    "If you google, you will inevitably end up on stack overflow. The latter is the largest developer community and forum. Almost every problem you encounter someone has encountered before you and asked the question on stack overflow. Whenever you write code you spend a fair amount of time researching your problems i.e. reading through stack overflow.\n",
    "\n",
    "**!¡!¡ More information on StackOverflow would be nice.**\n",
    "\n",
    "### Datasets - [Kaggle](www.kaggle.com):\n",
    "You might decide to analyze a dataset for your final project. There are many open source datasets on the internet. You will find a number of datasets on Kaggle. The website hosts competitions concerned with the analysis of datasets. You will oftentimes find Kernels, an analysis, and explanation which can serve as help and inspiration.\n",
    "\n",
    "**!¡!¡ Sections about datasets needs to be expanded.**\n",
    "\n",
    "### Working together on projects - [Git](https://git-scm.com/) & [GitHub](https://github.com/)\n",
    "Git is a version control system  [VCS], which allows you to store different versions and work together with your team members. By **pulling** a file to your machine you can edit it and once you have made changes **commit** and **push** it to the git.\n",
    "GitHub is a website which hosts projects that use git. Using the git takes some getting used to. If you decide to use it watch a couple YouTube videos on how to set it up, pull, commit, and push files.\n",
    "\n",
    "**!¡!¡ More information/tutorials on Git and Github are needed.**"
   ]
  },
  {
   "cell_type": "markdown",
   "metadata": {},
   "source": [
    "# Setting up your programming environment\n",
    "To follow this course, you will need to install the programming language Python on your computer.\n",
    "In addition to the programming language, you will need an Integrated Developer Environment [IDE] i.e. an editor. The editor we will use is Jupyter Notebook. It has the advantage that you can write code and execute it as well as write normal text i.e.  markdown, on the same page. Jupyter Notebook is a browser-based editor. Although Jupyter Notebook will open in your browser the notebook you write in will be saved locally on your computer. If you have never used Jupyter before you might want to watch a [YouTube](https://www.youtube.com/watch?v=HW29067qVWk) video on how to use it.\n",
    "\n",
    "<div class=\"alert alert-block alert-info\">\n",
    "To move through Jupyter Notebooks quicker you can use keyboard shortcuts. You can open a list of the latter by pressing **H**-key is no field is selected.\n",
    "</div>\n",
    "\n",
    "To set up your computer programming ecosystem it is easiest to install a distributor that includes the core programming language Python 3.6 and the editor.\n",
    "The distributor of choice for this course is [**Anaconda**](https://anaconda.org/). Besides the editors, Jupyter Notebook and Spyder, Conda, a packaging tool and installer, will allow you to manage the packages you need to run your code.\n",
    "\n",
    "To install it follow the [instructions](https://lectures.quantecon.org/py/getting_started.html) of Sargent and Stachurski.\n",
    "\n",
    "<div class=\"alert alert-block alert-info\">\n",
    "A package contains different preprogrammed functions allowing you to call them without “hardcoding” i.e. manually writing them.\n",
    "</div>\n",
    "\n",
    "**!¡!¡ Either this sections add significant value added with respect to the quantecon.org website or it can be dropped.**"
   ]
  },
  {
   "cell_type": "markdown",
   "metadata": {},
   "source": [
    "# How to tackle a programming course and why\n",
    "Programming is not a skill that you acquire once and know it thereafter. Learning how to program is a continuous process, the more time you spend doing it the better you become. Therefore, do not be discouraged if nothing works in the beginning.\n",
    "\n",
    "The main objective should not be to learn all the detailed functions and the syntax of python. Your Focus should lie on the main concepts. If you have learned the main concepts of one language you will be able to apply the latter to different languages. This is an important skill, as different companies use different programming languages and it is likely that you will have to learn a new language at some point in your life.\n",
    "\n",
    "The value of learning how to program in a business school is twofold. One the one hand it is a highly useful skill to be able to solve problems by writing a program. Furthermore, The growing field of data analytics requires a good understanding of programming languages such as Python, R, and SQL. On the other hand, as a manager, it is essential to be able to communicate with a developer and data scientist. Therefore programming is a valuable skill and will help you understand a computer scientists way of solving problems.\n",
    "\n",
    "**!¡!¡ This section needs to be re-designed. Is it adding valuable information.**"
   ]
  },
  {
   "cell_type": "markdown",
   "metadata": {},
   "source": [
    "# References\n",
    "* Mitchell, T. M. (1997). Machine Learning. McGraw Hill. <br>\n",
    "From http://www.cs.ubbcluj.ro/~gabis/ml/ml-books/McGrawHill%20-%20Machine%20Learning%20-Tom%20Mitchell.pdf\n",
    "\n",
    "* Wickham, H., & Grolemund, G. (2017). R for Data Science. O’Reilly.\n",
    "\n",
    "**!¡!¡ See Style Guide on citations and references.**"
   ]
  },
  {
   "cell_type": "markdown",
   "metadata": {},
   "source": [
    "# Choose your Platform Wisely\n",
    "\n",
    "**Jupyter Notebook**\n",
    "\n",
    "As of now we are working with jupyter notebook as our main tool to write python code. In general, jupyter notebook is a handy text editor, that allows us to get to know the language. Its markdown integration lets us create fancy \"text-book\"-like documents and neatly comment-out our code for generations to come. It is a relatively new tool and besides having the look of a simple \"notebook\", it offers many functions, for example debugging (for more info on debugging, check out Matthias' notes from session 2).\n",
    "\n",
    "But as you may have noticed during your attemps on designing an algorithm to solve three queens, using jupyter notebook can get a bit messy. \n",
    "\n",
    "<div class=\"alert alert-block alert-info\">\n",
    "Jupyter notebook is not designed for complex algorithm creation!\n",
    "</div>\n",
    "\n",
    "This is why there are so called Integrated Development Environments [IDEs] or even other text editors, that let you handle large chunks of code. \n",
    "\n",
    "**Integrated Development Environments**\n",
    "\n",
    "An IDE is a coding tool which allows you to write, test and debug your code in an easier way, as they typically offer code completion or code insight by highlighting, resource management, debugging tools etc. [Vasconcellos, 2017]\n",
    "\n",
    "<div class=\"alert alert-block alert-info\">\n",
    "Because of all the features that IDEs have to offer, they are extremely useful for development: they make your coding more comfortable!\n",
    "</div>\n",
    "\n",
    "There are many different IDEs on the market, so you might wonder which ones are recommendable: \n",
    "\n",
    "- *Spyder*: A tool made escpecially for data scientists that is very intuitive for scientific computing. It is completely free and comes with the Anaconda package, so if you have already downloaded Anaconda, you are basically good to go!\n",
    "\n",
    "![Spyder](https://pythonhosted.org/spyder/_images/editor3.png)\n",
    "\n",
    "- *Pycharm*: It has a very nice debugger and plays nicely with git (version control system, check out Julian's notes from Session 1). In addition to Python, PyCharm provides support for JavaScript, HTML/CSS, Angular JS, Node.js, and so on, what makes it a good option for web development.\n",
    "\n",
    "![Pycharm](https://origin2.cdn.componentsource.com/sites/default/files/styles/image_large/public/images/product_description/jetbrains/pycharm/img_484761.png?itok=fzUvDh7R)\n",
    "\n",
    "- *Rodeo*: It was built specifically for data analysis and apart from that, you’ll find that Rodeo is pretty similar to RStudio, which is by far the most popular IDE for the R language. So if you've programmed with R before, Rodeo might be an interesting alternative for you.\n",
    "\n",
    "![Pycharm](http://community.datacamp.com.s3.amazonaws.com/community/production/ckeditor_assets/pictures/628/content_rodeo-tutorials.gif)\n",
    "\n",
    "**Conclusion**\n",
    "\n",
    "Of course there are many other popular IDEs that might suit your needs best. I found this [page](https://www.datacamp.com/community/tutorials/data-science-python-ide) to be quite helpful in finding my platform of choice! Besides IDEs there are other text editors like \"Atom\" or \"Notepad C++\". But these normally don't come fully equipped like IDEs and often need to be expanded by using so-called \"plug-ins\". If you are interested in text editors, check out this [page](https://github.com/jashkenas/coffeescript/wiki/text-editor-plugins) which lists some handy plug-ins for different editors."
   ]
  },
  {
   "cell_type": "markdown",
   "metadata": {},
   "source": [
    "# Enhance the Comprehensibility of Your Code\n",
    "\n",
    "When writing complex algorithms, there are some guidlines one should respect to keep the code as clean and tidy as possible. At the moment the algorithms designed by us may still be simple, but as soon as we start working on our projects or at the latest as you start object-oriented programming, it will be really helpful to have a structure to follow.\n",
    "\n",
    "As an example, I will use the code snippet that checks the validity of our coin tosses presented in class and modify it, according to some general guidlines that will help you make your code clearer.\n",
    "\n",
    "Below, you can see the code, as it was presented in class:"
   ]
  },
  {
   "cell_type": "code",
   "execution_count": null,
   "metadata": {},
   "outputs": [],
   "source": [
    "# Generates a toss of a fair coin\n",
    "import numpy as np # Import the package numpy\n",
    "\n",
    "def coin_toss():\n",
    "    return np.random.randint(2)\n",
    "\n",
    "\n",
    "# Simulate coin_toss function\n",
    "n = 100000\n",
    "count_queen = 0\n",
    "n_tosses = 0\n",
    "\n",
    "for i in range(0,n):\n",
    "    n_tosses += 1\n",
    "    if coin_toss() == 1:\n",
    "        count_queen += 1\n",
    "\n",
    "print('Queen appeared {}% of the times'.format((count_queen/n_tosses)*100))\n",
    "print('Desired tosses {}. Actual tosses {}'.format(n,n_tosses))"
   ]
  },
  {
   "cell_type": "markdown",
   "metadata": {},
   "source": [
    "**Respect the Order**\n",
    "\n",
    "As you can see above, the code can actually be devided in three parts:\n",
    "\n",
    "> 1. <font color=green>Importing</font> of libraries\n",
    "\n",
    "> 2. <font color=green>Defining</font> functions\n",
    "\n",
    "> 3. <font color=green>Executing</font> a program using the libraries imported and functions defined\n",
    "\n",
    "This order is perfectly fine and one should always respect it to keep the code tidy. Never import libraries or define functions inside of your program! Always use some dedicated space at the top of the sheet.\n",
    "\n",
    "**Add Docstrings to Your Functions**\n",
    "\n",
    "In the example above, there is some text that is commented-out using \"#\". This is useful to quickly write down what the code is doing, especially when expecting to reuse the code somewhen in the future or considering to give it to someone else.\n",
    "\n",
    "But once we start working with functions stored in multiple python files, a problem arises. To make sure what our functions do, we always have to search for the file we defined it in.\n",
    "\n",
    "There is one trick to avoid this problem and that is using \"Docstrings\":"
   ]
  },
  {
   "cell_type": "code",
   "execution_count": 2,
   "metadata": {},
   "outputs": [],
   "source": [
    "# Generates a toss of a fair coin\n",
    "def coin_toss():\n",
    "    \"\"\"\n",
    "    INPUT: nothing\n",
    "    OUTPUT: randomly returns integer number of 0 or 1\n",
    "    \n",
    "    \"\"\"\n",
    "    return np.random.randint(2)"
   ]
  },
  {
   "cell_type": "markdown",
   "metadata": {},
   "source": [
    "Instead of just locally describing what the function does, we integrate a short description in the function itself.\n",
    "Simply put some text between three quotation marks right at the beginning of the function. It could literally be anything, whatever you find most suitable.\n",
    "\n",
    "Now, everytime you need to use the function and you are not a 100% sure what it does, recall this information by using the help() function or the \"?\", as shown below."
   ]
  },
  {
   "cell_type": "code",
   "execution_count": 3,
   "metadata": {},
   "outputs": [
    {
     "name": "stdout",
     "output_type": "stream",
     "text": [
      "Help on function coin_toss in module __main__:\n",
      "\n",
      "coin_toss()\n",
      "    INPUT: nothing\n",
      "    OUTPUT: randomly returns integer number of 0 or 1\n",
      "\n",
      "None\n"
     ]
    }
   ],
   "source": [
    "print(help(coin_toss))\n",
    "?coin_toss"
   ]
  },
  {
   "cell_type": "code",
   "execution_count": null,
   "metadata": {},
   "outputs": [],
   "source": []
  }
 ],
 "metadata": {
  "kernelspec": {
   "display_name": "Python 3",
   "language": "python",
   "name": "python3"
  },
  "language_info": {
   "codemirror_mode": {
    "name": "ipython",
    "version": 3
   },
   "file_extension": ".py",
   "mimetype": "text/x-python",
   "name": "python",
   "nbconvert_exporter": "python",
   "pygments_lexer": "ipython3",
   "version": "3.5.2"
  }
 },
 "nbformat": 4,
 "nbformat_minor": 2
}
