{
 "cells": [
  {
   "cell_type": "markdown",
   "metadata": {},
   "source": [
    "# Table of Contents\n",
    "1. [Programming Paradigms](#program_paradigms)\n",
    "2. [Object-Oriented Programming](#oop)"
   ]
  },
  {
   "cell_type": "markdown",
   "metadata": {},
   "source": [
    "<a id=\"program_paradigms\"></a>\n",
    "# Programming Paradigms\n",
    "\n",
    "1.1 What is a programming paradigm? \n",
    "    \n",
    "A programming paradigm is a way of classifying a programming language based on its features, particularly the way in which its code is organized. \n",
    "        \n",
    "The major existing programming paradigms are: \n",
    "1. [Imperative](#imperative)\n",
    "2. [Logical](#logical)\n",
    "3. [Functional](#functional)\n",
    "4. [Object-Oriented](#oop)\n",
    "\n",
    "<a id=\"imperative\"></a>\n",
    "**Imperative programming** is a programming paradigm which consists of providing of commands in a sequential order for a computer to execute. In other words, it is a simple list of instructions. The following is an illustration of imperative code.\n",
    "\n",
    "\n",
    "```css\n",
    "x = 2\n",
    "y = 3 \n",
    "z = x * y\n",
    "   \n",
    "```\n",
    "\n",
    "    \n",
    "    \n",
    "<a id=\"logical\"></a>\n",
    "**Logical programming**, based on formal logic, is based on evaluating whether statements are true or false. The main differences from imperative programming, being the logical clauses which are given to the computer to evaluate. \n",
    "\n",
    "```css\n",
    "example with booleans\n",
    "```\n",
    "<a id=\"functional\"></a>\n",
    "**Functional programming** is a paradigm which treats computation as the [evaluation of mathematical functions](https://en.wikipedia.org/wiki/Functional_programming) instead of progressively changing and mutating data. The following shows an example of a function of two inputs x and y, defined to multiply the first input x by y.\n",
    "\n",
    "```css\n",
    "def multiply(x,y):\n",
    "    z = x * y\n",
    "    return z\n",
    "multiply(3,6)\n",
    "```\n",
    "<a id=\"oop\"></a>\n",
    "# **Object-Oriented programming**"
   ]
  },
  {
   "cell_type": "code",
   "execution_count": null,
   "metadata": {},
   "outputs": [],
   "source": []
  }
 ],
 "metadata": {
  "kernelspec": {
   "display_name": "Python 3",
   "language": "python",
   "name": "python3"
  },
  "language_info": {
   "codemirror_mode": {
    "name": "ipython",
    "version": 3
   },
   "file_extension": ".py",
   "mimetype": "text/x-python",
   "name": "python",
   "nbconvert_exporter": "python",
   "pygments_lexer": "ipython3",
   "version": "3.6.5"
  }
 },
 "nbformat": 4,
 "nbformat_minor": 2
}
