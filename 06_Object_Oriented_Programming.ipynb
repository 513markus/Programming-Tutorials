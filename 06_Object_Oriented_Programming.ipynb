{
 "cells": [
  {
   "cell_type": "markdown",
   "metadata": {},
   "source": [
    "# Object-Oriented Programming (OOP) Tutorial"
   ]
  },
  {
   "cell_type": "markdown",
   "metadata": {},
   "source": [
    "## Table of Contents\n",
    "1. [Introduction](#introduction)\n",
    "2. [Comparison of Programming Paradigms](#comparison)\n",
    "3. [More about Object-Oriented Programming](#oop)\n",
    "4. [Four Fundamental Principles of Object-Oriented Programming](#fundamental_principles)"
   ]
  },
  {
   "cell_type": "markdown",
   "metadata": {},
   "source": [
    "<a id=\"introduction\"></a>\n",
    "## 1. Introduction\n",
    "\n",
    "$$\\\\$$\n",
    "$$''Object\\:oriented\\:design\\:is\\:the\\:roman\\:numerals\\:of\\:computing.''\\:-\\:Rob\\:Pike$$\n",
    "\n",
    "Object-oriented programming, or OOP, is one of the most dominant programming paradigms in modern programming. Its popularity has been steadily increasing, from initial attempts at implementation back in the 60s to being in some of the most prevalent languages today. As a set of programming concepts and design methodologies, it essentially offers a way of thinking about program structure and organisation.\n",
    "\n",
    "In the following section, we will first look at a comparison of object-oriented programming and two other programming paradigms. We will then introduce object-oriented programming in detail, elaborating on the definition and practical implementation of classes, objects and methods in Python. The last section focuses on the four fundamental principles of object-oriented programming, with examples clarifying each principle."
   ]
  },
  {
   "cell_type": "markdown",
   "metadata": {},
   "source": [
    "<a id=\"comparison\"></a>\n",
    "## 2. Comparison of Programming Paradigms\n",
    "\n",
    "Programming languages are often classified by the programming paradigm they mainly support. The features of each programming language often encourage, or even mandate, structuring the various parts of a program in a specific way. While Python is often referred to as an object-oriented language, it is probably best described as a multi-paradigm programming language as its features also support many other programming paradigms.\n",
    "\n",
    "The main difference between the various paradigms is the way they handle the state of the program, i.e. the values of its variables. Controlling how and where state is transformed in a program has practical consequences for how reliable and manageable the code becomes. Each programming pradigm offers a different way of managing state, in the hope that the program does not quickly fall into the trap of \"spaghetti code\", where the code is so badly structured that it becomes too complex to maintain.\n",
    "\n",
    "As an example, three programming paradigms are: \n",
    "1. [Imperative](#imperative_comparison)\n",
    "2. [Functional](#functional_comparison)\n",
    "3. [Object-Oriented](#oop_comparison)\n",
    "\n",
    "The following subsections will illustrate the differences between these three programming paradigms by producing the same output using code organised in these three different ways."
   ]
  },
  {
   "cell_type": "markdown",
   "metadata": {},
   "source": [
    "<a id=\"imperative_comparison\"></a>\n",
    "### 2.1 Imperative\n",
    "\n",
    "Using the analogy of programming as a problem-solving methodology, imperative programming defines a program as a series of steps, sequentially running each line of code, one by one until a solution is found. While this is often the simplest and most intuitive way to structure small programs like the one below, large imperative programs have a tendency to turn into unmanageable \"spaghetti code\". \n",
    "\n",
    "So, why do imperative programs end up in \"spaghetti code\"? This mainly has to do with how, in imperative programs, all variables are global variables. Assigning a value to a variable, like so:\n",
    "```python\n",
    "x = 12\n",
    "```\n",
    "changes the variable \"x\" globally. In small programs with few variables, this is not a major issue, but in large programs with millions of lines and thousands of variables, it is easy to see how a programmer working on one part of the code may accidentally reuse and reassign a variable that another programmer had already used in a different part of the code. Imperative programming is, therefore, unsuitable for creating large programs.\n",
    "\n",
    "In the following imperative program, we simulate the processes that turn food into solid waste in a human being. "
   ]
  },
  {
   "cell_type": "code",
   "execution_count": 30,
   "metadata": {},
   "outputs": [
    {
     "name": "stdout",
     "output_type": "stream",
     "text": [
      "Mouth:\n",
      "Food is eaten.\n",
      "\n",
      "Stomach:\n",
      "Solids are digested into nutrients.\n",
      "\n",
      "Small Intestine:\n",
      "Nutrients are absorbed, leaving solid waste.\n",
      "Liquids are absorbed, leaving water.\n",
      "\n",
      "Large Intestine:\n",
      "Water is absorbed.\n",
      "\n",
      "Anus:\n",
      "Solid waste is defecated.\n"
     ]
    }
   ],
   "source": [
    "#Digestive system of a human\n",
    "\n",
    "food = [\"Solids\", \"Liquids\"]\n",
    "\n",
    "print(\"Mouth:\")\n",
    "print(\"Food is eaten.\")\n",
    "\n",
    "print(\"\\nStomach:\")\n",
    "for (i, component) in enumerate(food):\n",
    "    if food[i] == \"Solids\":\n",
    "        print(\"{} are digested into nutrients.\".format(food[i]))\n",
    "        food[i] = \"Nutrients\"\n",
    "    else:\n",
    "        pass\n",
    "\n",
    "print(\"\\nSmall Intestine:\")\n",
    "for (i, component) in enumerate(food):\n",
    "    if food[i] == \"Nutrients\":\n",
    "        print(\"{} are absorbed, leaving solid waste.\".format(food[i]))\n",
    "        food[i] = \"Solid waste\"\n",
    "    elif food[i] == \"Liquids\":\n",
    "        print(\"{} are absorbed, leaving water.\".format(food[i]))\n",
    "        food[i] = \"Water\"\n",
    "\n",
    "print(\"\\nLarge Intestine:\")\n",
    "for (i, component) in enumerate(food):\n",
    "    if food[i] == \"Solid waste\":\n",
    "        pass\n",
    "    elif food[i] == \"Water\":\n",
    "        print(\"{} is absorbed.\".format(food[i]))\n",
    "        food.remove(food[i])\n",
    "\n",
    "print(\"\\nAnus:\")\n",
    "print(\"{} is defecated.\".format(food[0]))"
   ]
  },
  {
   "cell_type": "markdown",
   "metadata": {},
   "source": [
    "As can be seen, the program follows the path of the food as it passes through each organ, ending up as solid waste. This can be thought of as a series of transformations of state in the human body, where in this case, state is the \"food\" variable.\n",
    "\n",
    "In short, imperative programming sees programs in terms of transformations of state."
   ]
  },
  {
   "cell_type": "markdown",
   "metadata": {},
   "source": [
    "<a id=\"functional_comparison\"></a>\n",
    "### 2.2 Functional\n",
    "\n",
    "\n"
   ]
  },
  {
   "cell_type": "code",
   "execution_count": 31,
   "metadata": {},
   "outputs": [
    {
     "name": "stdout",
     "output_type": "stream",
     "text": [
      "Mouth:\n",
      "Food is eaten.\n",
      "\n",
      "Stomach:\n",
      "Solids are digested into nutrients.\n",
      "\n",
      "Small Intestine:\n",
      "Nutrients are absorbed, leaving solid waste.\n",
      "Liquids are absorbed, leaving water.\n",
      "\n",
      "Large Intestine:\n",
      "Water is absorbed.\n",
      "\n",
      "Anus:\n",
      "Solid waste is defecated.\n"
     ]
    }
   ],
   "source": [
    "def eat(food):\n",
    "    print(\"Food is eaten.\")\n",
    "\n",
    "def digest(food):\n",
    "    for (i, component) in enumerate(food):\n",
    "        if food[i] == \"Solids\":\n",
    "            print(\"{} are digested into nutrients.\".format(food[i]))\n",
    "            food[i] = \"Nutrients\"\n",
    "        else:\n",
    "            pass\n",
    "\n",
    "def absorb_nutrients(food):\n",
    "    for (i, component) in enumerate(food):\n",
    "        if food[i] == \"Nutrients\":\n",
    "            print(\"{} are absorbed, leaving solid waste.\".format(food[i]))\n",
    "            food[i] = \"Solid waste\"\n",
    "        elif food[i] == \"Liquids\":\n",
    "            print(\"{} are absorbed, leaving water.\".format(food[i]))\n",
    "            food[i] = \"Water\"\n",
    "                \n",
    "    \n",
    "    \n",
    "def absorb_water(food):\n",
    "    for (i, component) in enumerate(food):\n",
    "        if food[i] == \"Solid waste\":\n",
    "            pass\n",
    "        elif food[i] == \"Water\":\n",
    "            print(\"{} is absorbed.\".format(food[i]))\n",
    "            food.remove(food[i])\n",
    "\n",
    "def defecation(food):\n",
    "    print(\"{} is defecated.\".format(food[0]))\n",
    "\n",
    "\n",
    "\n",
    "food = [\"Solids\", \"Liquids\"]\n",
    "\n",
    "print(\"Mouth:\")\n",
    "eat(food)\n",
    "\n",
    "print(\"\\nStomach:\")\n",
    "digest(food)\n",
    "\n",
    "print(\"\\nSmall Intestine:\")\n",
    "absorb_nutrients(food)\n",
    "\n",
    "print(\"\\nLarge Intestine:\")\n",
    "absorb_water(food)\n",
    "\n",
    "print(\"\\nAnus:\")\n",
    "defecation(food)\n"
   ]
  },
  {
   "cell_type": "markdown",
   "metadata": {},
   "source": [
    "\n",
    "\n",
    "In short, functional programming sees programs as a set of pure functions that transform state in controlled ways, strictly isolating state from function."
   ]
  },
  {
   "cell_type": "markdown",
   "metadata": {},
   "source": [
    "<a id=\"oop_comparison\"></a>\n",
    "### 2.3 Object-Oriented Programming\n",
    "\n",
    "\n"
   ]
  },
  {
   "cell_type": "code",
   "execution_count": 32,
   "metadata": {},
   "outputs": [
    {
     "name": "stdout",
     "output_type": "stream",
     "text": [
      "Mouth:\n",
      "Food is eaten.\n",
      "\n",
      "Stomach:\n",
      "Solids are digested into nutrients.\n",
      "\n",
      "Small Intestine:\n",
      "Nutrients are absorbed, leaving solid waste.\n",
      "Liquids are absorbed, leaving water.\n",
      "\n",
      "Large Intestine:\n",
      "Water is absorbed.\n",
      "\n",
      "Anus:\n",
      "Solid waste is defecated.\n"
     ]
    }
   ],
   "source": [
    "class Human:\n",
    "    \n",
    "    def __init__(self):\n",
    "        pass\n",
    "\n",
    "    def mouth(self, food):\n",
    "        print(\"Mouth:\")\n",
    "        print(\"Food is eaten.\")\n",
    "    \n",
    "    def stomach(self, food):\n",
    "        print(\"\\nStomach:\")\n",
    "        for (i, component) in enumerate(food):\n",
    "            if food[i] == \"Solids\":\n",
    "                print(\"{} are digested into nutrients.\".format(food[i]))\n",
    "                food[i] = \"Nutrients\"\n",
    "            else:\n",
    "                pass\n",
    "    \n",
    "    def small_intestine(self, food):\n",
    "        print(\"\\nSmall Intestine:\")\n",
    "        for (i, component) in enumerate(food):\n",
    "            if food[i] == \"Nutrients\":\n",
    "                print(\"{} are absorbed, leaving solid waste.\".format(food[i]))\n",
    "                food[i] = \"Solid waste\"\n",
    "            elif food[i] == \"Liquids\":\n",
    "                print(\"{} are absorbed, leaving water.\".format(food[i]))\n",
    "                food[i] = \"Water\"\n",
    "                    \n",
    "        \n",
    "        \n",
    "    def large_intestine(self, food):    \n",
    "        print(\"\\nLarge Intestine:\")\n",
    "        for (i, component) in enumerate(food):\n",
    "            if food[i] == \"Solid waste\":\n",
    "                pass\n",
    "            elif food[i] == \"Water\":\n",
    "                print(\"{} is absorbed.\".format(food[i]))\n",
    "                food.remove(food[i])\n",
    "    \n",
    "    def anus(self, food):\n",
    "        print(\"\\nAnus:\")\n",
    "        print(\"{} is defecated.\".format(food[0]))\n",
    "\n",
    "\n",
    "\n",
    "david = Human()\n",
    "food = [\"Solids\", \"Liquids\"]\n",
    "\n",
    "david.mouth(food)\n",
    "\n",
    "david.stomach(food)\n",
    "\n",
    "david.small_intestine(food)\n",
    "\n",
    "david.large_intestine(food)\n",
    "\n",
    "david.anus(food)\n"
   ]
  },
  {
   "cell_type": "markdown",
   "metadata": {},
   "source": [
    "\n",
    "\n",
    "In short, object-oriented programming sees programs as a set of objects where state is coupled with function, with strict designations as to which states are to be modified by these functions."
   ]
  },
  {
   "cell_type": "markdown",
   "metadata": {},
   "source": [
    "<a id=\"oop\"></a>\n",
    "## 3. More about Object-Oriented Programming\n",
    "\n",
    "### 3.1 So, what is Object-Oriented Programming?\n",
    "\n",
    "Object-oriented programming (OOP) is based on the idea that we are no longer primarily focused on the logic or actions of our program but rather on the data itself, in particular the objects of our program. While object-oriented programming serves a similar purpose as functional programming - eliminating the global state, it does this differently, by allowing us to store variables in objects rather than functions. Our programming is therefore centered around the objects themselves. \n",
    "\n",
    "So what is an object? \n",
    "\n",
    "In fact, everything in Python is an object in disguise. Python transforms anything we create into object automatically. More specifically, objects are instances of classes, and these objects have a certain type. For example, 'Hello world' is an object, which is instance of a string. 123456789 an instance of an integer and \\[a, b, c] of a string. \n",
    "\n",
    "To create and use your own types and create objects of that type, all you need are three simple steps.\n",
    "\n",
    "\\begin{gather*}\n",
    "Step\\:1:\\:Define\\:a\\:Class\\:by\\:initializing\\:attributes \\\\\n",
    "Step\\:2:\\:Initialize\\:Methods \\\\\n",
    "Step\\:3:\\:Instantiate\\:Objects \n",
    "\\end{gather*}\n",
    "\n",
    "To illustrate this process more specifically and represent what an object may be, imagine a troop of gorillas. The gorilla as an animalistic species has certain characteristics- a name, height, 2 arms and 2 legs. However exploring every individual gorilla, we find that some of those characteristics vary- for example one animal will be called George and weigh 150 kg, whereas another may be called Harry and weigh 190 kg. The species is the general case of our beast, the class. The individual beast is an instance of our class. This generalization as a class of objects is similar to Plato's concept of the ideal chair that stands for all chairs, or in our case the \"ideal\" gorilla. "
   ]
  },
  {
   "cell_type": "markdown",
   "metadata": {},
   "source": [
    "<a id=\"class\"></a>\n",
    "### Step 1: Define a Class & Attributes\n",
    "\n",
    "A class is a blueprint for our generalized object. In our case the gorilla as a species is the class. Let's define our class of the gorilla. Classes are mere descriptions of how our to-be objects should look like. "
   ]
  },
  {
   "cell_type": "code",
   "execution_count": 33,
   "metadata": {},
   "outputs": [],
   "source": [
    "class Gorilla: \n",
    "    \n",
    "    #class attribute \n",
    "    species = \"Gorilla\"\n",
    "    \n",
    "    #instance attribute\n",
    "    def __init__(self, name, age):\n",
    "        self.name = name \n",
    "        self.age = age"
   ]
  },
  {
   "cell_type": "markdown",
   "metadata": {},
   "source": [
    "It's important to highlight that we have defined both class-wide attributes (the species) and instance-specific attributes such as the name and age. "
   ]
  },
  {
   "cell_type": "markdown",
   "metadata": {},
   "source": [
    "### Step 2: Initialize methods\n",
    "\n",
    "Methods are functions used inside classes that form the behaviour of an object. When we interact with lists, for example, we might use its type's methods such as list.append(), list.count() or list.index(). Similarily, we can define our own methods in our new class."
   ]
  },
  {
   "cell_type": "code",
   "execution_count": 34,
   "metadata": {},
   "outputs": [],
   "source": [
    "class Gorilla: \n",
    "    \n",
    "    #class attribute \n",
    "    species = \"Gorilla\"\n",
    "    \n",
    "    #instance attribute\n",
    "    def __init__(self, name, age):\n",
    "        self.name = name \n",
    "        self.age = age\n",
    "    \n",
    "    #instance method\n",
    "    def eat(self):\n",
    "        return '{} is eating a banana.'.format(self.name)"
   ]
  },
  {
   "cell_type": "markdown",
   "metadata": {},
   "source": [
    "Note that the only argument here is \"self\". The \"self\" argument refers to the object or the bound variable itself. The output is the same for King Kong and Donkey Kong. To get instance-specific output, we can use their specific attributes. "
   ]
  },
  {
   "cell_type": "markdown",
   "metadata": {},
   "source": [
    "### Step 3: Instantiating an object \n",
    "\n",
    "What is an object?\n",
    "Objects are specific instances of classes. In fact, everything in Python is an object in disguise. More specifically, when we instantiate any variable, Python hiobjects are instances of the different types. For example, 'Hello world' is an instance of a string, 123456789 of an integer and \\[a, b, c] of a string. \n",
    "Objects are specific instances of classes. To instantiate our class, we call our class and enter the respective parameters."
   ]
  },
  {
   "cell_type": "code",
   "execution_count": 35,
   "metadata": {},
   "outputs": [
    {
     "name": "stdout",
     "output_type": "stream",
     "text": [
      "King Kong is a Gorilla.\n",
      "Donkey Kong is a Gorilla.\n",
      "\n",
      "King Kong is 15 years old.\n",
      "Donkey Kong is 11 years old.\n",
      "\n",
      "King Kong is eating a banana.\n",
      "Donkey Kong is eating a banana.\n"
     ]
    }
   ],
   "source": [
    "kingkong = Gorilla(\"King Kong\", 15)\n",
    "donkeykong = Gorilla(\"Donkey Kong\", 11)\n",
    "\n",
    "#class attributes\n",
    "print(\"King Kong is a {}.\".format(kingkong.__class__.species))\n",
    "print(\"Donkey Kong is a {}.\".format(donkeykong.__class__.species))\n",
    "print(\"\")\n",
    "\n",
    "#instance attributes\n",
    "print(\"{} is {} years old.\". format(kingkong.name, kingkong.age))\n",
    "print(\"{} is {} years old.\". format(donkeykong.name, donkeykong.age))\n",
    "print(\"\")\n",
    "\n",
    "#instance method\n",
    "print(kingkong.eat())\n",
    "print(donkeykong.eat())"
   ]
  },
  {
   "cell_type": "markdown",
   "metadata": {},
   "source": [
    "We have thus defined an object kingkong, which is a gorilla of name \"King Kong\", and 15 years of age.\n",
    "We have also defined donkeykong, a gorilla of name \"Donkey Kong\", 11 years of age. \n",
    "\n",
    "Both King Kong and Donkey Kong are eating a banana. Note that this is because the only argument is \"self\" here. The \"self\" argument refers to the object or the bound variable itself. The output is the same for King Kong and Donkey Kong. To get instance-specific output we can use their attributes. \n",
    "\n",
    "While their class attributes are the same meaning that both objects are of the species Gorilla, it is important to highlight that their instance attributes differ, as these are specific to each object."
   ]
  },
  {
   "cell_type": "markdown",
   "metadata": {},
   "source": [
    "### Extras: Special Methods\n",
    "\n",
    "Class functions that begin with double underscore __ are called special functions in Python. The \\_&#95;init_\\_() function as seen above, is one of them. Using special functions, we can override built-in functions such as +, -, ==, len(), print and many others. "
   ]
  },
  {
   "cell_type": "code",
   "execution_count": 36,
   "metadata": {},
   "outputs": [
    {
     "name": "stdout",
     "output_type": "stream",
     "text": [
      "kingkong\n",
      "<__main__.Gorilla object at 0x000001ACC8201828>\n"
     ]
    }
   ],
   "source": [
    "print(\"kingkong\")\n",
    "print(kingkong)"
   ]
  },
  {
   "cell_type": "markdown",
   "metadata": {},
   "source": [
    "Our first code line simply prints its string input. \n",
    "\n",
    "However the second code line refers to our object, kingkong, our Gorilla named \"King Kong\" and 15 years of age. But what is our function print actually doing? It tells us about our object kingkong, which is of type Gorilla as  \\_&#95;main_\\_.Gorilla shows, and its memory location: 0x00000276A55CF438. This is the built-in function \\_&#95;str_\\_() of python. We can change the printing behaviour of the object by overwriting \\_&#95;str_\\_() in our class."
   ]
  },
  {
   "cell_type": "code",
   "execution_count": 37,
   "metadata": {},
   "outputs": [
    {
     "name": "stdout",
     "output_type": "stream",
     "text": [
      "<King Kong>,<15>\n"
     ]
    }
   ],
   "source": [
    "class Gorilla1: \n",
    "    species = \"Gorilla\"\n",
    "    #instance attribute\n",
    "    def __init__(self, name, age):\n",
    "        self.name = name \n",
    "        self.age = age\n",
    "    #instance method\n",
    "    def eat(self):\n",
    "        return '{} is eating a banana.'.format(self.name)\n",
    "    #special method\n",
    "    def __str__(self):\n",
    "         return '<{}>,<{}>'.format(self.name, self.age)\n",
    "\n",
    "kingkong = Gorilla1(\"King Kong\", 15)\n",
    "print(kingkong)"
   ]
  },
  {
   "cell_type": "markdown",
   "metadata": {},
   "source": [
    "That's much better! Our newly defined method returns a little summary of the object. This is a lot more user-friendly.\n",
    "\n",
    "Here are some other special methods that correspond to each built-in function:\n",
    "\n",
    "| Built In Functions | Special Method | Functionality  |\n",
    "| ------------- |:-------------:| -----:|\n",
    "| len(x)   | \\_&#95;len\\__(self) | length of x |\n",
    "| float(x) |\\_&#95;float\\__(self)    | float equivalent of x |\n",
    "| int(x) | \\_&#95;int\\__(self) | integer equivalent of x |\n",
    "| str(x | \\_&#95;str\\__(self) | string representation of x |\n",
    "| abs(x) | \\_&#95;abs\\__(self) | absolute value of x |\n",
    "| hash(x)  | \\_&#95;hash\\__(self) | integer hash code for x |\n",
    "| iter(x)  | \\_&#95;iter\\__(self) | iterator for x |\n",
    "\\begin{align*}\n",
    "\\href{http://www.sharelatex.com}{Table Source} \n",
    "\\end{align*}"
   ]
  },
  {
   "cell_type": "markdown",
   "metadata": {},
   "source": [
    "<a id=\"fundamental_principles\"></a>\n",
    "## 4. Four Fundamental Principles of Object-oriented Programming\n",
    "\n",
    "### 4.1 Encapsulation\n",
    "\n",
    "**Encapsulation** refers to the principle of keeping the state of each object private, inside a class. By limiting direct access to this state and only allowing the object's methods to modify state in the class, this prevents the unintentional spread of changes made in one part of a program to other parts of the program. Encapsulation is especially important in large and complex projects worked on by teams of programmers, where communication between different parts of the program must be carefully managed."
   ]
  },
  {
   "cell_type": "code",
   "execution_count": 38,
   "metadata": {},
   "outputs": [
    {
     "name": "stdout",
     "output_type": "stream",
     "text": [
      "King Kong is currently asleep.\n",
      "King Kong is currently awake.\n",
      "\n",
      "King Kong is black in colour.\n",
      "King Kong is black in colour.\n",
      "\n",
      "King Kong is black in colour.\n",
      "King Kong is red in colour.\n",
      "\n"
     ]
    }
   ],
   "source": [
    "class Gorilla2:\n",
    "    def __init__(self, name, awakeness, colour):\n",
    "        self.name = name\n",
    "        self.awakeness = awakeness\n",
    "        self.__colour = colour # Note the double underscore denoting a private attribute\n",
    "        \n",
    "    def currentstate(self):\n",
    "        print(f\"{self.name} is currently {self.awakeness}.\")\n",
    "        \n",
    "    def currentcolour(self):\n",
    "        print(f\"{self.name} is {self.__colour} in colour.\")\n",
    "        \n",
    "    def spraypaint(self, paint): # Public method that changes the private attribute \"self.__colour\"\n",
    "        self.paint = paint\n",
    "        self.__colour = paint\n",
    "        \n",
    "kingkong = Gorilla2(\"King Kong\", \"asleep\", \"black\")\n",
    "\n",
    "kingkong.currentstate()\n",
    "kingkong.awakeness = \"awake\" # Usually, attributes in a class can be directly modified outside the class\n",
    "kingkong.currentstate()\n",
    "print(\"\")\n",
    "\n",
    "kingkong.currentcolour()\n",
    "kingkong.__colour = \"brown\" # However, private attributes cannot be modified outside the class\n",
    "kingkong.currentcolour()    # Therefore, this attribute will not be changed to \"brown\"\n",
    "print(\"\")\n",
    "\n",
    "kingkong.currentcolour()\n",
    "kingkong.spraypaint(\"red\") # Private attributes can only be modified by public setter methods of the class\n",
    "kingkong.currentcolour()\n",
    "print(\"\")"
   ]
  },
  {
   "cell_type": "markdown",
   "metadata": {},
   "source": [
    "### 4.2 Abstraction\n",
    "\n",
    "Abstraction refers to the principle of displaying essential information by hiding unnecessary information. This is done by creating sub-classes for this unnecessary information. This isolation of the information is similar to inheritance in the aspect of how it is achieved (creating specific sub-classes), but it has its own purpose: simplicity.  \n",
    "\n",
    "This principle may not seem advantageous at first glance. After all, why would we want to hide information about how the tasks of our program are achieved? How exactly does this reduce complexity?   Consider a TV remote. Do we know exactly how each of the buttons on our remote function in everyday usage? Should we be reminded at every press of a button on our remote, that we are making the underlying chip's sensor go off, producing an electrical signal which is amplified with a transistor, then sent through a LED which finally prompts an infrared light to communicate with our TV?  \n",
    "\n",
    "What matters to us is that the power button correctly prompts the television to turn on, that the volume button changes the volume, and that the channel changes when we use the button to change channels. The inner-workings of these buttons do not need to be apparent in the daily usage of our remote. This is the exact point of abstraction, reducing complexity. Through abstraction we are also able to isolate parts of our code, making its maintenance more efficient by ensuring changes are to be made locally."
   ]
  },
  {
   "cell_type": "markdown",
   "metadata": {},
   "source": [
    "### 4.3 Inheritance\n",
    "\n",
    "**Inheritance** refers to how an Object-oriented programming language allows the creation of (child) subclasses using the characteristics of an existing parent or super class. In other words, the child class can inherit attributes from the parent class. By simply inheriting from the parent class, we have inherited all its functionality. Python will travel up the inheritance chain (Human to Gorilla) until it finds the called method (init) to be executed. Let's now customize our subclass a little bit. Adding methods for the child class is no different than adding methods for the parent class. It is not possible to remove inherited attributes, variables and methods from the sub class, as they do not exist in the sub class. But you can overwrite them:\n",
    "\n",
    "\n",
    "Remember this is our parent class:\n"
   ]
  },
  {
   "cell_type": "code",
   "execution_count": 39,
   "metadata": {},
   "outputs": [
    {
     "name": "stdout",
     "output_type": "stream",
     "text": [
      "Monkey\n",
      "Gorilla\n",
      "\n",
      "Brutus benches 130 kg.\n",
      "George has an IQ of 170.\n",
      "\n",
      "Brutus is eating a banana.\n",
      "George is eating caviar.\n"
     ]
    }
   ],
   "source": [
    "#remember this is our parent class\n",
    "class Monkey: \n",
    "    family = \"Monkey\"\n",
    "    #instance attribute\n",
    "    def __init__(self, name, age):\n",
    "        self.name = name \n",
    "        self.age = age\n",
    "    #instance method\n",
    "    def eat(self):\n",
    "        return '{} is eating a banana.'.format(self.name)   \n",
    "    \n",
    "#Creating our first child class   \n",
    "class Gorilla(Monkey): \n",
    "    species = 'Gorilla'\n",
    "    #adding a new attribute\n",
    "    def __init__(self, name, age, strength):\n",
    "        #Calling the parents init methods  \n",
    "        super().__init__(name, age)  \n",
    "        #Call the new subclass specific attribute\n",
    "        self.strength = strength \n",
    "        #strength is quantified by how many kilograms the gorilla benches\n",
    "        \n",
    "#Creating our second child class   \n",
    "class Chimpanzee(Monkey): \n",
    "    species = 'Chimpanzee'\n",
    "    #adding a new attribute\n",
    "    def __init__(self, name, age, IQ):\n",
    "        #Calling the parents init methods  \n",
    "        super().__init__(name, age)  \n",
    "        #Call the new subclass specific attribute\n",
    "        self.IQ = IQ  \n",
    "        #replace method\n",
    "    def eat(self):\n",
    "        return '{} is eating caviar.'.format(self.name) \n",
    "    \n",
    "brutus = Gorilla('Brutus', 11, 130)\n",
    "george = Chimpanzee(\"George\", 7, 170) \n",
    "\n",
    "print(brutus.__class__.family)\n",
    "print(brutus.__class__.species)\n",
    "print(\"\")\n",
    "print(\"Brutus benches {} kg.\".format(brutus.strength))\n",
    "print(\"George has an IQ of {}.\".format(george.IQ))\n",
    "print(\"\")\n",
    "print(brutus.eat())\n",
    "print(george.eat())\n"
   ]
  },
  {
   "cell_type": "markdown",
   "metadata": {},
   "source": [
    "Brutus, our object of sub-class Gorilla has effectively inherited the family Monkey from its parent attribute. However he also has specific attributes, such as his species Gorilla. \n",
    "\n",
    "Both our monkeys Brutus and George have been given a new attribute, unique to their sub-class. Brutus has been given a strength one, whereas George an IQ one. While they both have the same parent class Monkey, they also have their own specific-sub classes which allow them to have different characteristics, gorillas being known for their strength and chimpanzees for their intelligence. \n",
    "\n",
    "Lastly, while Brutus has inherited the parent-class eat function, and thus eats bananas, George shows that it is possible to replace parent-class methods. Chimpanzees are special and eat caviar. "
   ]
  },
  {
   "cell_type": "markdown",
   "metadata": {},
   "source": [
    "### 4.4 Polymorphism  \n",
    "\n",
    "Polymorphism is one of the 4 pillars of OOP. It allows our program to process information differently based on their data type. This is achieved through the usage of a generic interface. Let's illustrate this with an example. "
   ]
  },
  {
   "cell_type": "code",
   "execution_count": 40,
   "metadata": {},
   "outputs": [
    {
     "name": "stdout",
     "output_type": "stream",
     "text": [
      "Dolphins can't sing, silly.\n",
      "*Sings Despacito*\n"
     ]
    }
   ],
   "source": [
    "#creation first class\n",
    "class Dolphin:\n",
    "    \n",
    "    def sing(self): \n",
    "        print(\"Dolphins can't sing, silly.\")\n",
    "        \n",
    "\n",
    "#creation second class\n",
    "class Gorilla:\n",
    "\n",
    "    def sing(self):\n",
    "        print (\"*Sings Despacito*\")\n",
    "\n",
    "#creation of generic interface\n",
    "def singing(animal):\n",
    "    animal.sing()\n",
    "    \n",
    "#Now let's test what this does\n",
    "#First, we create 2 animals, a dolphin and a gorilla \n",
    "\n",
    "dolphin1 = Dolphin()\n",
    "gorilla1 = Gorilla()\n",
    "\n",
    "#pass our objects through the generic interface\n",
    "singing(dolphin1)\n",
    "singing(gorilla1)"
   ]
  },
  {
   "cell_type": "markdown",
   "metadata": {},
   "source": [
    "We have defined two different classes, Dolphin() and Gorilla(), each with their own sing() method. We then defined a generic interface singing(), for the input of any object. Then, passing our two objects, dolphin1 and gorilla1 through this interface, we get differing output, depending on the class of our input. In the case of the Gorilla, it is able to sing. Because gorillas can sing. Duh. Well only Despacito. In the case of our Dolphin, it is sadly unable to sing.\n",
    "\n",
    "The generic interface serves a similar purpose as a switchboard. We are now able to enter the sing() function of both Gorillas and Dolphins into this interface, which then directs our program to the correct class, allowing it to differentiate the singing() function for our data type, depending on whether it is a Gorilla and Dolphin. Differentiation of our objects is the main strength of Polymorphism. \n",
    "\n",
    "The principles of Inheritance and Polymorphism are complementary. While Inheritance allows our sub-classes to inherit the **same** attributes and methods as a parent or super-class, Polymorphism allows for these to **differ** depending on which sub-class they are from. "
   ]
  },
  {
   "cell_type": "code",
   "execution_count": null,
   "metadata": {},
   "outputs": [],
   "source": []
  }
 ],
 "metadata": {
  "kernelspec": {
   "display_name": "Python 3",
   "language": "python",
   "name": "python3"
  },
  "language_info": {
   "codemirror_mode": {
    "name": "ipython",
    "version": 3
   },
   "file_extension": ".py",
   "mimetype": "text/x-python",
   "name": "python",
   "nbconvert_exporter": "python",
   "pygments_lexer": "ipython3",
   "version": "3.6.5"
  }
 },
 "nbformat": 4,
 "nbformat_minor": 2
}
