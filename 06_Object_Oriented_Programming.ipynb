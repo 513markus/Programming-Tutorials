{
 "cells": [
  {
   "cell_type": "markdown",
   "metadata": {},
   "source": [
    "# Table of Contents\n",
    "1. [Programming Paradigms](#program_paradigms)\n",
    "2. [Object-Oriented Programming](#oop)\n",
    "  * [Class](#class)"
   ]
  },
  {
   "cell_type": "markdown",
   "metadata": {},
   "source": [
    "## Introduction\n",
    "<a id=\"program_paradigms\"></a>\n",
    "\n",
    "$$Object-oriented\\:design\\:is\\:the\\:roman\\:numerals\\:of\\:computing. -\\:Rob\\:Pike$$\n",
    "\n",
    "\n",
    "Object-oriented programming (OOP) is often referred to as a new programming paradigm. Its popularity has been growing for several decades now, starting from the initial attempts back in the 60s to some of the most important languages used nowadays. Being a set of programming concepts and design methodologies, it essentially offers a way of thinking. \n",
    "\n",
    "In the following section we will look at three __programming paradigms__ before we introduce __Object-oriented programming__. We will elaborate on the definition and implementation of __classes__, __objects__ and __methods__.\n",
    "The last section focuses on the __fundamental principles of OOP__ and draws a __comparison__ to other paradigms.\n",
    "\n",
    "\n",
    "## 1. Programming Paradigms \n",
    "    \n",
    "A programming paradigm is a way of classifying a programming language based on its features, particularly the way in which its code is organised. \n",
    "        \n",
    "A few of the major existing programming paradigms are: \n",
    "1. [Imperative](#imperative)\n",
    "3. [Functional](#functional)\n",
    "4. [Object-Oriented](#oop)\n",
    "\n",
    "<a id=\"imperative\"></a>\n",
    "**Imperative programming** is a programming paradigm which consists of the provision of commands in a sequential order for a computer to execute. In other words, it is a series of instructions. The following is an illustration of imperative code in Python."
   ]
  },
  {
   "cell_type": "code",
   "execution_count": null,
   "metadata": {},
   "outputs": [],
   "source": [
    "x = 2\n",
    "y = 3 \n",
    "z = x * y"
   ]
  },
  {
   "cell_type": "markdown",
   "metadata": {},
   "source": [
    "<a id=\"functional\"></a>\n",
    "**Functional programming** is a paradigm which treats computation as the [evaluation of mathematical functions](https://en.wikipedia.org/wiki/Functional_programming) (a series of transformations) instead of progressively changing and mutating data. It allows us to define our own complex functions, suited to our endeavours, instead of limiting us to the functions integrated in the programming language. The following shows an example in Python of a function of two inputs x and y, defined to multiply the first input x by y. "
   ]
  },
  {
   "cell_type": "code",
   "execution_count": null,
   "metadata": {},
   "outputs": [],
   "source": [
    "def multiply(x,y):\n",
    "    z = x * y\n",
    "    return z\n",
    "multiply(3,6)"
   ]
  },
  {
   "cell_type": "markdown",
   "metadata": {},
   "source": [
    "<a id=\"oop\"></a>\n",
    "## 2. **Object-Oriented programming**\n",
    "\n",
    "#### 2.1 Why do we need Object-Oriented programming (OOP)?\n",
    "\n",
    "The main difference between the various paradigms is the way they handle the state (the values) of the variables. In procedural languages, all variables are global variables. For example, the following line of code attributes a value to the variable x, one of the particularities is that this assignment affects the global state of the program."
   ]
  },
  {
   "cell_type": "code",
   "execution_count": null,
   "metadata": {},
   "outputs": [],
   "source": [
    "x = 12"
   ]
  },
  {
   "cell_type": "markdown",
   "metadata": {},
   "source": [
    "If we were to modify the value of x as such in a later stage of the program, as follows, then the global state of the program is modified. In other words, x is 3 and always has been 3 **(from this stage on?)**, the memory that x had ever been 12 is deleted. "
   ]
  },
  {
   "cell_type": "code",
   "execution_count": null,
   "metadata": {},
   "outputs": [],
   "source": [
    "x = 3"
   ]
  },
  {
   "cell_type": "markdown",
   "metadata": {},
   "source": [
    "This is one of the first significant advantages of OOP, it permits us to track modifications of the variables and complex functions our program may have. This is particularly useful as errors arise in the process of overwriting and modifying variables gradually, and becomes particularly troublesome the larger our code is. This is known as an unintentional side effect. \n",
    "\n",
    "Functional programming is also a solution to this issue, however it **isolates these state-changes.** OOP however allows us to **selectively designate which states should be affected** by the functions of our program. \n",
    "\n",
    "To recap: \n",
    "* Imperative programming transform state progressively\n",
    "* Functional programming strictly isolates state from function\n",
    "* OOP couples state with functions, designating which states are to be modified by these functions\n",
    "\n",
    "#### 2.2 So what is Object-Oriented programming?    \n",
    "\n",
    "Object-oriented programming (OOP) is based on the idea that we are no longer primarily focused on the logic or actions of our program but rather the __data__ itself, in particular the objects of our program. While OOP serves a similar purpose as functional programming - eliminating the global state, it goes further by allowing us to store variables in objects rather than functions. Our programming is therefore centered around the __objects__ themselves. \n",
    "\n",
    "In fact, everything in Python is an object in disguise. "
   ]
  },
  {
   "cell_type": "code",
   "execution_count": 1,
   "metadata": {},
   "outputs": [
    {
     "data": {
      "text/plain": [
       "True"
      ]
     },
     "execution_count": 1,
     "metadata": {},
     "output_type": "execute_result"
    }
   ],
   "source": [
    "type('Hello world') == str\n",
    "type(123456789) == int\n",
    "type([1, 5, 2]) == list"
   ]
  },
  {
   "cell_type": "markdown",
   "metadata": {},
   "source": [
    "An object is an instance of a type. In other words, 'Hello world' is an instance of a string, 123456789 of an integer and \\[a, b, c] of a string.\n",
    "\n",
    "To create and use your own types and create objects of that type, all you need are three simple steps.\n",
    "\n",
    "<pre><code><div style=\"background-color:rgb(218, 255, 181)\">Step 1: Define a Class by initializing attributes\n",
    "Step 2: Initialize Methods\n",
    "Step 3: Instantiate Objects\n",
    "</div></code></pre>\n",
    "\n",
    "To illustrate this process and what an object may be, imagine a troop of gorillas. The gorilla as an animalistic species has certain characteristics- a name, height, 2 arms and 2 legs. However exploring every individual gorilla, we find that some of those characteristics vary- for example one animal will be called George and weigh 150 kg, whereas another may be called Harry and weigh 190 kg. The specie is the general case of our beast, the class. The individual beast is an instance of our class. This generalization as a class of objects is similar to Plato's concept of the ideal chair that stands for all chairs, or in our case the \"ideal\" gorilla. \n",
    "\n",
    "<a id=\"class\"></a>\n",
    "## Step 1: Define a Class & Attributes\n",
    "\n",
    "A class is a blueprint for our generalized object. In our case the gorilla as a species is the class. Let's define our class of the gorilla. Classes are mere descriptions of how our to-be objects should look like. "
   ]
  },
  {
   "cell_type": "code",
   "execution_count": 2,
   "metadata": {},
   "outputs": [],
   "source": [
    "class Gorilla1: \n",
    "    #class attribute \n",
    "    species = \"Gorilla\"\n",
    "    #instance attribute\n",
    "    def __init__(self, name, age):\n",
    "        self.name = name \n",
    "        self.age = age"
   ]
  },
  {
   "cell_type": "markdown",
   "metadata": {},
   "source": [
    "It's important to higlight that we have defined both class-wide attributes (the species) and instance-specific attributes such as the name and age. \n",
    "\n",
    "## Step 2: Initialize methods\n",
    "\n",
    "Methods are functions used inside classes that form the interface and behaviour of an object. When we interract with lists for example we might use it's type's methods such as list.append(), list.count() or list.index(). Similarily we can define our own methods."
   ]
  },
  {
   "cell_type": "code",
   "execution_count": 2,
   "metadata": {},
   "outputs": [],
   "source": [
    "class Gorilla2: \n",
    "    #class attribute \n",
    "    species = \"Gorilla\"\n",
    "    #instance attribute\n",
    "    def __init__(self, name, age):\n",
    "        self.name = name \n",
    "        self.age = age\n",
    "    #instance method\n",
    "    def eat(self):\n",
    "        return '{} is eating a banana.'.format(self.name)"
   ]
  },
  {
   "cell_type": "markdown",
   "metadata": {},
   "source": [
    "Note that the only argument is 'self' here. The \"self\" argument refers to the object or the bound variable itself. The output is the same for King Kong and Donkey Kong. To get instance-specific output we can use their attributes. "
   ]
  },
  {
   "cell_type": "markdown",
   "metadata": {},
   "source": [
    "## Step 3: Instantiating an object \n",
    "\n",
    "Objects are specific instances of classes. To instantiate our class, we call our class and enter the respective parameters."
   ]
  },
  {
   "cell_type": "code",
   "execution_count": 4,
   "metadata": {},
   "outputs": [
    {
     "name": "stdout",
     "output_type": "stream",
     "text": [
      "King Kong is a Gorilla.\n",
      "Donkey Kong is a Gorilla.\n",
      "King Kong is 15 years old.\n",
      "Donkey Kong is 11 years old.\n",
      "King Kong is eating a banana.\n",
      "Donkey Kong is eating a banana.\n"
     ]
    }
   ],
   "source": [
    "kingkong = Gorilla2(\"King Kong\", 15)\n",
    "donkeykong = Gorilla2(\"Donkey Kong\", 11)\n",
    "\n",
    "#class attributes\n",
    "print(\"King Kong is a {}.\".format(kingkong.__class__.species))\n",
    "print(\"Donkey Kong is a {}.\".format(donkeykong.__class__.species))\n",
    "#instance attributes\n",
    "print(\"{} is {} years old.\". format(kingkong.name, kingkong.age))\n",
    "print(\"{} is {} years old.\". format(donkeykong.name, donkeykong.age))\n",
    "#instance method\n",
    "print(kingkong.eat())\n",
    "print(donkeykong.eat())"
   ]
  },
  {
   "cell_type": "markdown",
   "metadata": {},
   "source": [
    "We have thus defined an object kingkong, which is a gorilla of name \"King Kong\", and 15 years of age.\n",
    "We have also defined donkeykong, a gorilla of name \"Donkey Kong\", 11 years of age. \n",
    "\n",
    "Both King Kong and Donkey Kong are eating a banana. Note that this is because the only argument is \"self\" here. The \"self\" argument refers to the object or the bound variable itself. The output is the same for King Kong and Donkey Kong. To get instance-specific output we can use their attributes. \n",
    "\n",
    "While their class attributes are the same meaning that both objects are of the species Gorilla, it is important to highlight that their instance attributes differ, their specificities. \n",
    "\n",
    "## Extrastep: Special Methods\n",
    "\n",
    "Class functions that begins with double underscore __ are called special functions in Python. The \\_&#95;init_\\_() function as seen above, is one of them. Using special functions, we can override built-in functions such as +, -, ==, len(), print and many others. "
   ]
  },
  {
   "cell_type": "code",
   "execution_count": 5,
   "metadata": {},
   "outputs": [
    {
     "name": "stdout",
     "output_type": "stream",
     "text": [
      "<__main__.Gorilla2 object at 0x00000205D56D1668>\n"
     ]
    }
   ],
   "source": [
    "print(kingkong)"
   ]
  },
  {
   "cell_type": "markdown",
   "metadata": {},
   "source": [
    "_<__main__.Gorilla object at 0x0000028F7BFB6470>_\n",
    "\n",
    "Calling this function on our object, Python uses the built-in function __str__. We can change the printing behaviour of the object by overwriting __str__ in our class.\n",
    "\n"
   ]
  },
  {
   "cell_type": "code",
   "execution_count": 6,
   "metadata": {},
   "outputs": [
    {
     "name": "stdout",
     "output_type": "stream",
     "text": [
      "<King Kong>,<15>\n"
     ]
    }
   ],
   "source": [
    "class Gorilla3: \n",
    "    species = \"Gorilla\"\n",
    "    #instance attribute\n",
    "    def __init__(self, name, age):\n",
    "        self.name = name \n",
    "        self.age = age\n",
    "    #instance method\n",
    "    def eat(self):\n",
    "        return '{} is eating a banana.'.format(self.name)\n",
    "    #special method\n",
    "    def __str__(self):\n",
    "         return '<{}>,<{}>'.format(self.name, self.age)\n",
    "\n",
    "kingkong = Gorilla3(\"King Kong\", 15)\n",
    "print(kingkong)"
   ]
  },
  {
   "cell_type": "markdown",
   "metadata": {},
   "source": [
    "    <King Kong>,<15>\n",
    "\n",
    "That's much better! Our newly defined method returns a little \n",
    "summary of the object. This makes it a lot more user-friendly."
   ]
  },
  {
   "cell_type": "markdown",
   "metadata": {
    "scrolled": true
   },
   "source": [
    "| Built In Functions | Special Method | Functionality  |\n",
    "| ------------- |:-------------:| -----:|\n",
    "| len(x)   | \\_&#95;len\\__(self) | length of x |\n",
    "| float(x) |\\_&#95;float\\__(self)    | float equivalent of x |\n",
    "| int(x) | \\_&#95;int\\__(self) | integer equivalent of x |\n",
    "| str(x | \\_&#95;str\\__(self) | string representation of x |\n",
    "| abs(x) | \\_&#95;abs\\__(self) | absolute value of x |\n",
    "| hash(x)  | \\_&#95;hash\\__(self) | integer hash code for x |\n",
    "| iter(x)  | \\_&#95;iter\\__(self) | iterator for x |\n",
    "<div style=\"text-align: right\"> [Table source](https://www.yahoo.com/) </div>"
   ]
  },
  {
   "cell_type": "markdown",
   "metadata": {},
   "source": [
    "## 3. Four Fundamental Principles of Object-oriented Programming\n",
    "\n",
    "### 3.1 Encapsulation\n",
    "\n",
    "**Encapsulation** refers to the principle of keeping the state of each object private, inside a class. By limiting direct access to this state and only allowing the object's methods to modify state in the class, this prevents the unintentional spread of changes made in one part of a program to other parts of the program. Encapsulation is especially important in large and complex projects worked on by teams of programmers, where communication between different parts of the program must be carefully managed."
   ]
  },
  {
   "cell_type": "code",
   "execution_count": 8,
   "metadata": {},
   "outputs": [
    {
     "name": "stdout",
     "output_type": "stream",
     "text": [
      "King Kong is currently asleep.\n",
      "King Kong is currently awake.\n",
      "\n",
      "King Kong is black in colour.\n",
      "King Kong is black in colour.\n",
      "\n",
      "King Kong is black in colour.\n",
      "King Kong is red in colour.\n",
      "\n"
     ]
    }
   ],
   "source": [
    "class Gorilla4:\n",
    "    def __init__(self, name, awakeness, colour):\n",
    "        self.name = name\n",
    "        self.awakeness = awakeness\n",
    "        self.__colour = colour # Note the double underscore denoting a private attribute\n",
    "        \n",
    "    def currentstate(self):\n",
    "        print(f\"{self.name} is currently {self.awakeness}.\")\n",
    "        \n",
    "    def currentcolour(self):\n",
    "        print(f\"{self.name} is {self.__colour} in colour.\")\n",
    "        \n",
    "    def spraypaint(self, paint): # Public method that changes the private attribute \"self.__colour\"\n",
    "        self.paint = paint\n",
    "        self.__colour = paint\n",
    "        \n",
    "kingkong = Gorilla4(\"King Kong\", \"asleep\", \"black\")\n",
    "\n",
    "kingkong.currentstate()\n",
    "kingkong.awakeness = \"awake\" # Usually, attributes in a class can be directly modified outside the class\n",
    "kingkong.currentstate()\n",
    "print(\"\")\n",
    "\n",
    "kingkong.currentcolour()\n",
    "kingkong.__colour = \"brown\" # However, private attributes cannot be modified outside the class\n",
    "kingkong.currentcolour()\n",
    "print(\"\")\n",
    "\n",
    "kingkong.currentcolour()\n",
    "kingkong.spraypaint(\"red\") # Private attributes can only be modified by public setter methods of the class\n",
    "kingkong.currentcolour()\n",
    "print(\"\")"
   ]
  },
  {
   "cell_type": "markdown",
   "metadata": {},
   "source": [
    "### 3.2 Abstraction\n",
    "\n",
    "Abstraction refers to the principle of displaying essential information by hiding unnecessary information. This is done by creating sub-classes for this unnecessary information. This isolation of the information is similar to encapsulation in the aspect of how it is achieved (creating specific sub-classes), but it has its own purpose: simplicity.  \n",
    "This principle may not seem advantageous at first glance, why would we want to hide information about how the tasks of our program are achieved? How exactly does this reduce complexity?   Let's consider a TV remote, do we know exactly how each of the buttons on our remote functions in everyday usage? Should we be reminded at every press of a button on our remote, that we are making the underlying chip's sensor go off, producing a morse-line code which is amplified with a transistor, then sent through a LED which finally prompts an infrared light to communicate with our TV?  \n",
    "What matters to us is that the power button correctly prompts the power, that the volume button changes the volume, and that the channel changes when we use the button to change channels. The inner-workings of these buttons do not need to be apparent in the common usage of our remote. This is the exact point of abstraction, reducing complexity. Through abstraction we are also able to isolate parts of our code, making its maintenance more efficient by ensuring changes are to be made locally. \n",
    "\n",
    "### 3.3 Inheritance\n",
    "\n",
    "**Inheritance** refers to how an Object-oriented programming language allows the creation of child subclass using the characteristics of an existing parent or super class. In other words, the child class can inherit attributes from the parent class. By simply inheriting from the parent class, we have inherited all its functionality. Python will travel up the inheritance chain (Human to Gorilla) until it finds the called method (init) to be executed. Let's now customize our sub class a little bit. Adding methods for the child class is no different than adding methods for the parent class. It is not possible to remove inherited attributes, variables and methods from the sub class, as they do not exist in the sub class. But you can overwrite them:\n",
    "\n",
    "\n",
    "Remember this is our parent class:\n"
   ]
  },
  {
   "cell_type": "code",
   "execution_count": 9,
   "metadata": {},
   "outputs": [
    {
     "ename": "TypeError",
     "evalue": "__init__() takes 3 positional arguments but 4 were given",
     "output_type": "error",
     "traceback": [
      "\u001b[1;31m---------------------------------------------------------------------------\u001b[0m",
      "\u001b[1;31mTypeError\u001b[0m                                 Traceback (most recent call last)",
      "\u001b[1;32m<ipython-input-9-cd5745e5cbb5>\u001b[0m in \u001b[0;36m<module>\u001b[1;34m()\u001b[0m\n\u001b[0;32m     27\u001b[0m         \u001b[1;31m#replace method\u001b[0m\u001b[1;33m\u001b[0m\u001b[1;33m\u001b[0m\u001b[0m\n\u001b[0;32m     28\u001b[0m         \u001b[1;32mreturn\u001b[0m \u001b[1;34m'{} is eating a donut.'\u001b[0m\u001b[1;33m.\u001b[0m\u001b[0mformat\u001b[0m\u001b[1;33m(\u001b[0m\u001b[0mself\u001b[0m\u001b[1;33m.\u001b[0m\u001b[0mname\u001b[0m\u001b[1;33m)\u001b[0m\u001b[1;33m\u001b[0m\u001b[0m\n\u001b[1;32m---> 29\u001b[1;33m \u001b[0mhuman1\u001b[0m \u001b[1;33m=\u001b[0m \u001b[0mHuman\u001b[0m\u001b[1;33m(\u001b[0m\u001b[1;34m'Adam'\u001b[0m\u001b[1;33m,\u001b[0m \u001b[1;36m28\u001b[0m\u001b[1;33m,\u001b[0m \u001b[1;36m70\u001b[0m\u001b[1;33m,\u001b[0m \u001b[1;36m175\u001b[0m\u001b[1;33m)\u001b[0m\u001b[1;33m\u001b[0m\u001b[0m\n\u001b[0m\u001b[0;32m     30\u001b[0m \u001b[0mhuman2\u001b[0m \u001b[1;33m=\u001b[0m \u001b[0mHuman\u001b[0m\u001b[1;33m(\u001b[0m\u001b[1;34m\"Eva\"\u001b[0m\u001b[1;33m,\u001b[0m \u001b[1;36m30\u001b[0m\u001b[1;33m,\u001b[0m \u001b[1;36m60\u001b[0m\u001b[1;33m,\u001b[0m \u001b[1;36m170\u001b[0m\u001b[1;33m)\u001b[0m\u001b[1;33m\u001b[0m\u001b[0m\n\u001b[0;32m     31\u001b[0m \u001b[1;33m\u001b[0m\u001b[0m\n",
      "\u001b[1;32m<ipython-input-9-cd5745e5cbb5>\u001b[0m in \u001b[0;36m__init__\u001b[1;34m(self, name, age, weight, IQ)\u001b[0m\n\u001b[0;32m     21\u001b[0m     \u001b[1;32mdef\u001b[0m \u001b[0m__init__\u001b[0m\u001b[1;33m(\u001b[0m\u001b[0mself\u001b[0m\u001b[1;33m,\u001b[0m \u001b[0mname\u001b[0m\u001b[1;33m,\u001b[0m \u001b[0mage\u001b[0m\u001b[1;33m,\u001b[0m \u001b[0mweight\u001b[0m\u001b[1;33m,\u001b[0m \u001b[0mIQ\u001b[0m\u001b[1;33m)\u001b[0m\u001b[1;33m:\u001b[0m\u001b[1;33m\u001b[0m\u001b[0m\n\u001b[0;32m     22\u001b[0m         \u001b[1;31m#Calling the parents init methods\u001b[0m\u001b[1;33m\u001b[0m\u001b[1;33m\u001b[0m\u001b[0m\n\u001b[1;32m---> 23\u001b[1;33m         \u001b[0msuper\u001b[0m\u001b[1;33m(\u001b[0m\u001b[1;33m)\u001b[0m\u001b[1;33m.\u001b[0m\u001b[0m__init__\u001b[0m\u001b[1;33m(\u001b[0m\u001b[0mname\u001b[0m\u001b[1;33m,\u001b[0m \u001b[0mage\u001b[0m\u001b[1;33m,\u001b[0m \u001b[0mweight\u001b[0m\u001b[1;33m)\u001b[0m\u001b[1;33m\u001b[0m\u001b[0m\n\u001b[0m\u001b[0;32m     24\u001b[0m         \u001b[1;31m#Call the new subclass specific attribute\u001b[0m\u001b[1;33m\u001b[0m\u001b[1;33m\u001b[0m\u001b[0m\n\u001b[0;32m     25\u001b[0m         \u001b[0mself\u001b[0m\u001b[1;33m.\u001b[0m\u001b[0mIQ\u001b[0m \u001b[1;33m=\u001b[0m \u001b[0mIQ\u001b[0m\u001b[1;33m\u001b[0m\u001b[0m\n",
      "\u001b[1;31mTypeError\u001b[0m: __init__() takes 3 positional arguments but 4 were given"
     ]
    }
   ],
   "source": [
    "#remember this is our parent class\n",
    "class Gorilla5: \n",
    "    species = \"Gorilla\"\n",
    "    #instance attribute\n",
    "    def __init__(self, name, age):\n",
    "        self.name = name \n",
    "        self.age = age\n",
    "    #instance method\n",
    "    def eat(self):\n",
    "        return '{} is eating a banana.'.format(self.name)\n",
    "    #special method\n",
    "    def __str__(self):\n",
    "         return '<{}>,<{}>'.format(self.name, self.age)\n",
    "    \n",
    "    \n",
    "#Creating a child class   \n",
    "class Human(Gorilla5): \n",
    "    #Overwriting the class attribute\n",
    "    species = 'Human'\n",
    "#adding a new attribute\n",
    "    def __init__(self, name, age, weight, IQ):\n",
    "        #Calling the parents init methods  \n",
    "        super().__init__(name, age, weight)  \n",
    "        #Call the new subclass specific attribute\n",
    "        self.IQ = IQ  \n",
    "    def eat(self):\n",
    "        #replace method\n",
    "        return '{} is eating a donut.'.format(self.name) \n",
    "human1 = Human('Adam', 28, 70, 175)\n",
    "human2 = Human(\"Eva\", 30, 60, 170) \n",
    "\n",
    "print(human1)\n",
    "print(human2.IQ)\n",
    "print(human1.eat())\n",
    "print(human1.bananacount())"
   ]
  },
  {
   "cell_type": "markdown",
   "metadata": {},
   "source": [
    "This returns:\n",
    "  \n",
    "\\<Adam Smith>,<35>,<70> \n",
    "140\n",
    "Adam Smith is eating a donut.\n",
    "Adam Smith eats 2 bananas a day.\n",
    "\n",
    "\n",
    "### Polymorphism  \n",
    "\n",
    "Polymorphism is one of the 4 pillars of OOP, it allows our program to process information differently based on their data type. This is achieved through the usage of a generic interface. Let's illustrate by an example. "
   ]
  },
  {
   "cell_type": "code",
   "execution_count": 10,
   "metadata": {},
   "outputs": [
    {
     "name": "stdout",
     "output_type": "stream",
     "text": [
      "Dolphins can't sing, silly.\n",
      "*Sings Despacito*\n"
     ]
    }
   ],
   "source": [
    "#creation first class\n",
    "class Dolphin:\n",
    "    \n",
    "    def sing(self): \n",
    "        print(\"Dolphins can't sing, silly.\")\n",
    "        \n",
    "\n",
    "#creation second class\n",
    "class Gorilla:\n",
    "\n",
    "    def sing(self):\n",
    "        print (\"*Sings Despacito*\")\n",
    "\n",
    "#creation of generic interface\n",
    "def singing(animal):\n",
    "    animal.sing()\n",
    "    \n",
    "#Now let's test what this does\n",
    "#First, we create 2 animals, a dolphin and a gorilla \n",
    "\n",
    "dolphin1 = Dolphin()\n",
    "gorilla1 = Gorilla()\n",
    "\n",
    "#pass our objects through the generic interface\n",
    "singing(dolphin1)\n",
    "singing(gorilla1)"
   ]
  },
  {
   "cell_type": "markdown",
   "metadata": {},
   "source": [
    "We have defined two different classes, Dolphin() and Gorilla(), each with their own sing() method. We then defined a generic interface singing(), for the input of any object. Then, passing our two objects, dolphin1 and gorilla1 through this interface, we get differing output, depending on the class of our input. In the case of the Gorilla, it is able to sing. Because gorillas can sing. Duh. Well only Despacito. In the case of our Dolphin, it is sadly unable to sing.  \n",
    "The generic interface serves a similar purpose as a switchboard. We are now able to enter the sing() function of both Gorillas and Dolphins into this interface, which then directs our program to the correct class, allowing it to differentiate the singing() function for our data type, depending on whether it is a Gorilla and Dolphin. Differentiation of our objects is the main strength of Polymorphism. \n",
    "\n",
    "The principles of Inheritance and Polymorphism are complementary. While Inheritance allows our sub-classes to inherit the **same** attributes and methods as a parent or super-class, Polymorphism allows for these to **differ** depending on which sub-class they are from. "
   ]
  },
  {
   "cell_type": "markdown",
   "metadata": {},
   "source": []
  },
  {
   "cell_type": "code",
   "execution_count": null,
   "metadata": {},
   "outputs": [],
   "source": []
  }
 ],
 "metadata": {
  "kernelspec": {
   "display_name": "Python 3",
   "language": "python",
   "name": "python3"
  },
  "language_info": {
   "codemirror_mode": {
    "name": "ipython",
    "version": 3
   },
   "file_extension": ".py",
   "mimetype": "text/x-python",
   "name": "python",
   "nbconvert_exporter": "python",
   "pygments_lexer": "ipython3",
   "version": "3.6.5"
  }
 },
 "nbformat": 4,
 "nbformat_minor": 2
}
