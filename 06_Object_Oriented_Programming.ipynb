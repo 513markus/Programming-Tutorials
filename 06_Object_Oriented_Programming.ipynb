{
 "cells": [
  {
   "cell_type": "markdown",
   "metadata": {},
   "source": [
    "# Table of Contents\n",
    "1. [Programming Paradigms](#program_paradigms)\n",
    "2. [Object-Oriented Programming](#oop)"
   ]
  },
  {
   "cell_type": "markdown",
   "metadata": {},
   "source": [
    "<a id=\"program_paradigms\"></a>\n",
    "# Programming Paradigms\n",
    "\n",
    "1.1 What is a programming paradigm? \n",
    "    \n",
    "A programming paradigm is a way of classifying a programming language based on its features, particularly the way in which its code is organized. \n",
    "        \n",
    "The major existing programming paradigms are: \n",
    "1. [Imperative](#imperative)\n",
    "2. [Logical](#logical)\n",
    "3. [Functional](#functional)\n",
    "4. [Object-Oriented](#oop)\n",
    "\n",
    "<a id=\"imperative\"></a>\n",
    "**Imperative programming** is a programming paradigm which consists of providing of commands in a sequential order for a computer to execute. In other words, it is a simple list of instructions. The following is an illustration of imperative code.\n",
    "\n",
    "\n",
    "```css\n",
    "x = 2\n",
    "y = 3 \n",
    "z = x * y\n",
    "   \n",
    "```\n",
    "\n",
    "    \n",
    "    \n",
    "<a id=\"logical\"></a>\n",
    "**Logical programming**, based on formal logic, is based on evaluating whether statements are true or false. The main differences from imperative programming, being the logical clauses which are given to the computer to evaluate. \n",
    "\n",
    "```css\n",
    "example with booleans\n",
    "```\n",
    "<a id=\"functional\"></a>\n",
    "**Functional programming** is a paradigm which treats computation as the [evaluation of mathematical functions](https://en.wikipedia.org/wiki/Functional_programming) instead of progressively changing and mutating data. The following shows an example of a function of two inputs x and y, defined to multiply the first input x by y.\n",
    "\n",
    "```css\n",
    "def multiply(x,y):\n",
    "    z = x * y\n",
    "    return z\n",
    "multiply(3,6)\n",
    "```\n",
    "<a id=\"oop\"></a>\n",
    "# **Object-Oriented programming**\n",
    "\n",
    "2.1 Why do we need Object-Oriented programming (OOP)?\n",
    "\n",
    "The main difference between various paradigms is the way they handle the state (the values) of the variables. In procedural languages all variables are global variables (Althoff, 2016). For example, the following line of code attributes a value to the variable x, one of the particularities is that this assignment affects the global state of the program.\n",
    "\n",
    "```css\n",
    "x = 12\n",
    "```\n",
    "\n",
    "If we were to modify the value of x as such in a later stage of the program, as follows, then the global state of the program is modified. In other words, x is 3 and always has been 3 (from this stage on?), the memory that x had ever been 12 is deleted. \n",
    "\n",
    "```css\n",
    "x=3\n",
    "```\n",
    "This is one of the first significant advantages of OOP, it permits us to track modifications of the variables and complex functions our program may have. This is particularly useful as errors arise in the process of overwriting and modifying variables gradually, and becomes particularly troublesome the larger our code is. This is known as an unintentional side effect. \n",
    "\n",
    "One solution to this would be the introduction of functional programming, which is a style that stores and treats variables into functions rather than changing the global states of the program. This eliminates the issue of the side effect, but instead only the state of the parameters used, and not the global state. <span style=\"color:red\">(im not sure what you mean by this?, does this mean just that if we have for example a variable z inside the function, only this z would be affected? so not the variables introduced which are changed or? it depends entirely on our definition of the function, need to reword this). Functional programming allows us to define our own complex functions, suited to our endaveours, instead of limiting us to the functions integrated in python. \n",
    "    \n",
    "2.2 So what is Object-Oriented programming?    \n",
    "\n",
    "Object-oriented programming (OOP) is based on the idea that we are no longer primarily focussed on the logic or actions of our program but rather the data itself, in particular the objects of our program. While OOP serves a similar purpose as functional programming - eliminating the global state, it goes further by allowing us to store variables in objects rather than functions. Our programming is therefore centered around the objects themselves. \n",
    "\n",
    "To illustrate what an object may be, imagine a herd of cows. The cow as a animalistic species has certain characteristics- a height, weight, four legs, horns <span style=\"color:red\">(the sound it makes etc, i dont think this is a characteristic, more a function no?). <span style=\"color:black\">However exploring every individual cow, we find that some of those characteristics vary- for example one animal will weight about 635 kg, another- 732 kg and so on. In this case our object is the specie in a general case and an instance would be the individual beast in question. This generalization as a class of objects is similar to Plato's concept of the [\"ideal\"](https://searchmicroservices.techtarget.com/definition/object-oriented-programming-OOP) chair that stands for all chairs, or in our case the \"ideal\" cow. \n",
    "    \n",
    "This is the first step in OOP, identifying all the objects and the ways in which they interrelate amongst themselves. \n",
    "\n"
   ]
  },
  {
   "cell_type": "code",
   "execution_count": null,
   "metadata": {},
   "outputs": [],
   "source": []
  }
 ],
 "metadata": {
  "kernelspec": {
   "display_name": "Python 3",
   "language": "python",
   "name": "python3"
  },
  "language_info": {
   "codemirror_mode": {
    "name": "ipython",
    "version": 3
   },
   "file_extension": ".py",
   "mimetype": "text/x-python",
   "name": "python",
   "nbconvert_exporter": "python",
   "pygments_lexer": "ipython3",
   "version": "3.6.5"
  }
 },
 "nbformat": 4,
 "nbformat_minor": 2
}
