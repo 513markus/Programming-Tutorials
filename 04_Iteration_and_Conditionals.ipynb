{
 "cells": [
  {
   "cell_type": "markdown",
   "metadata": {},
   "source": [
    "# Table of contents\n",
    "**!¡!¡ Missing**"
   ]
  },
  {
   "cell_type": "markdown",
   "metadata": {},
   "source": [
    "# Preface\n",
    "\n",
    "Human beings take lots of decisions. While you are driving, you can find yourself in front of a traffic light. You take logical decisions depending on the traffic light color. The same occurs with a programming language like Python. Decisions are made when a program has more than one choice of actions depending on the value a variable takes. In the traffic light case, the variable would be the *light color* and the decisions would be *go, stop* or either *prepare to stop* or *to go*. In this lecture, we will go through the Pythons' decision making processes. In the following section we will explain the basic features of **conditionals**, show the different comparison/logical operators supported by Python and explain the concept of chained conditionals.<br>\n",
    "The last section focuses on **Iteration**, where we will explain four different statements: the for, while, break and the continue statements.\n",
    "- - -\n",
    "- - -\n",
    "# Conditionals\n",
    "\n",
    "\n",
    "A conditional is basically a feature of a programming language, which performs different computations of actions depending on whether a boolean condition is evaluated as True or False (remind that boolean data types have two values, usually denoted True and False). It is sometimes usually referred to as an \"if-check\". Think about the following pseudocode, which describes the traffic light problem:\n",
    "<pre><code><div style=\"background-color:rgb(217, 237, 247)\">1: If (traffic light is green - boolean condition) then  \n",
    "2:   (go - consequent)   \n",
    "3: else\n",
    "4:   (either stop or prepare to stop/go - alternative)\n",
    "5: end if\n",
    "</div></code></pre>\n",
    "\n",
    "As you can see above, conditionals basically work according to an **if–then** construct, which is common across many programming languages. Below we will explain its basic features.\n",
    "\n",
    "## If-statement\n",
    "When the program finds an **if**, it expects a boolean condition and evaluates that condition. If the condition is True, the statement following the *then* is executed. Otherwise, if the condition is not True, the execution continues in the following branch, that is, the **else** block. What does this actually mean? With the else statement we basically say Python that there is an alternative if the condition is False, in that case we expect Python to execute a different code. The else block is optional, since we may want Python to execute a code just if a certain condition is True. If there is no else branch then the program automatically stops checking conditions. \n",
    "\n",
    "To make you feel comfortable with it, consider the following example where each code-line is explained. We want to compute the absolute value of a number:"
   ]
  },
  {
   "cell_type": "code",
   "execution_count": null,
   "metadata": {},
   "outputs": [],
   "source": [
    "n=int(input('Number to analyse: ')) #we pick a numer, for which we want to compute the absolute value\n",
    "if n < 0: #if the number we want to analyze is less than zero,\n",
    "    print (\"The absolute value of\",n,\"is\",-n) #python runs the line: print (\"The absolute value of\",n,\"is”,-n). It says that the absolute value of a negative integer is its positive counterpart.\n",
    "else: #otherwise, if the number we want to analyze is not less than 0,\n",
    "    print (\"The absolute value of\",n,\"is\",n) #Python runs the line: print (\"The absolute value of\",n,\"is”, n). It says that the absolute value of a positive integer is the integer itself."
   ]
  },
  {
   "cell_type": "markdown",
   "metadata": {},
   "source": [
    "## Comparison operators\n",
    "\n",
    "We just saw one of the available comparison operators Python allows to use, that is the **<** operator. In fact, there are many operators we can use to compare two operands. Here is a list: <br>\n",
    "\n",
    "| Operator | Description                                                                                                       |\n",
    "|----------|-------------------------------------------------------------------------------------------------------------------|\n",
    "| ==       | If the values of two operands are equal, then the condition becomes true.                                         |\n",
    "| !=       | If the values of two operands are not equal, the condition becomes true.                                             |\n",
    "| <>       | If the values of two operands are not equal, the condition becomes true (similar to  the != operator).               |\n",
    "| >        | If the value of the left operand is greater than the value of the right operand, the condition becomes true.             |\n",
    "| <        | If the value of the left operand is less than the value of the right operand, the condition becomes true.                |\n",
    "| >=       | If the value of the left operand is greater than or equal to the value of the right operand, then the condition becomes true. |\n",
    "| <=       | If the value of the left operand is less than or equal to the value of the right operand, then the condition becomes true.    |\n",
    "\n",
    "Remind that operators expressions may change depending on the language you are using!"
   ]
  },
  {
   "cell_type": "markdown",
   "metadata": {},
   "source": [
    "## Logical operators\n",
    "Python also supports different logical operators. We will concentrate on the following: **and**, **or** and **not**. They allow us to compare different condition at the same time. Consider the following example: we want to compare the two conditions: 7>5; 5>3. Each logical operator is followed by an example-code. <br>\n",
    "- - -\n",
    "The **and** operator compares two different conditions, building a cumulative condition. This cumulative condition takes boolean value of True or False. It is valued True when both conditions are True. In our case, both 7 > 5 and 5 > 3 are True, thus, the cumulative condition {7 > 5 **and** 5 > 3} is True. "
   ]
  },
  {
   "cell_type": "code",
   "execution_count": null,
   "metadata": {},
   "outputs": [],
   "source": [
    "print((7 > 5) and (5 > 3))"
   ]
  },
  {
   "cell_type": "markdown",
   "metadata": {},
   "source": [
    "The **or** operator also compares two different conditions and builds a cumulative condition. The cumulative condition is valued True when at least one of the conditions are True. In our example both conditions are True, thus, the cumulative condition {7 > 5 **and** 5 > 3} is True. "
   ]
  },
  {
   "cell_type": "code",
   "execution_count": null,
   "metadata": {},
   "outputs": [],
   "source": [
    "print((7 > 5) or (5 > 3))"
   ]
  },
  {
   "cell_type": "markdown",
   "metadata": {},
   "source": [
    "The **not** operator analyzes an operand and compares it with its counterpart. The counterpart of 7 > 5 is False, since the condition itself is True. Thus, the condition **not** 7 > 5 is False."
   ]
  },
  {
   "cell_type": "code",
   "execution_count": null,
   "metadata": {},
   "outputs": [],
   "source": [
    "print(not(7 > 5))"
   ]
  },
  {
   "cell_type": "markdown",
   "metadata": {},
   "source": [
    "## Chained conditionals\n",
    "Recall the absoute value example in section 1.1. Since we were not interested in the case n = 0, we just had two possibilities: n was either positive or negative. Sometimes there are more than two possibilities and we need more than two branches. One way to analyze such a case is through chained conditionals. Here is a basic pseudocode describing how chained conditionals work:\n",
    "\n",
    "<pre><code><div style=\"background-color:rgb(217, 237, 247)\">1: If condition a then  \n",
    "2:   run statement A\n",
    "3: else if condition b then\n",
    "4:   run statement B\n",
    "5: else if condition c then\n",
    "6:   run statement C\n",
    "7: ...\n",
    "8: else \n",
    "9:   run statement Z\n",
    "10: end if \n",
    "</div></code></pre>\n",
    "How do we interpret this? You may have noticed a new statement: the **else if** statement, or **elif** statement in Python syntax. Python starts checking the first condition (a) and evaluates it. If condition a is True, then it runs the corresponding statement (A). If condition a is actually True, Python stops checking other conditions. If, instead, condition a is False, Python faces the **elif** statement, which does two things: first, it says that there is an alternative (else part). Second it says that there is not just one alternative (if part). That is, the **elif** statements makes Python aware, that what comes after is just one of the alternatives. If condition b is True, then it runs statement B. In this case, Python does not check any condition that comes after condition b. If condition b is False, Python continues checking according to the elif principle. If, say, all conditions from a to y are False, then the only condition left is condition z. Since this is the last condition we want Python to check, we don't use the elif statement anymore. If we do, we imply that there is at least one condition more to be checket. So, when there is just one more condition we want Python to check, we use the usual **else** statement (which is, as already said, optional). We can express the traffic light example as a chained conditional. Have a look at the following pseudocode.\n",
    "<pre><code><div style=\"background-color:rgb(217, 237, 247)\">1: If (traffic light is green) then  \n",
    "2:   (go)   \n",
    "3: else if (light switches from green to yellow) then\n",
    "4:   (prepare to stop)\n",
    "5: else if (light is red) then\n",
    "6:   (stop)\n",
    "7: else\n",
    "8:   (prepare to go)\n",
    "9: end if\n",
    "</div></code></pre>\n",
    "- - -\n",
    "To make you feel more comfortable with the concept of chained conditionals, here is an example: we want Python to show us if a number is positive or negative and if it is odd or even: "
   ]
  },
  {
   "cell_type": "code",
   "execution_count": null,
   "metadata": {},
   "outputs": [],
   "source": [
    "# Important: This code is incorrect and poorly designed\n",
    "\n",
    "n = int(input('Number to analyse: '))\n",
    "if n > 0:\n",
    "    print('{} is a positive number'.format(n))\n",
    "elif n%2 == 0: #For even numbers, the Modulus with respect to 2 is zero.\n",
    "    print('{} is an even number'.format(n))\n",
    "else: \n",
    "    print('{} is an odd number'.format(n))"
   ]
  },
  {
   "cell_type": "markdown",
   "metadata": {},
   "source": [
    "If you run this code for different numbers, you may have noticed that for positive integers, the algorithm just says if the integer is positive or negative but says nothing about parity. For negative integers, instead, it says nothing about the sign, but tells us if it is even or odd. Why?<br>\n",
    "\n",
    "If the number we want to analyze is positive, then what comes after the **if** is True, meaning that Python runs whatever statement comes after. Then it stops checking conditions since the **elif** statement implies an alternative. Thus, what comes after the elif statements will be checket if the former condition was False. According to this, the parity of a number will be checked just if the fist condition is False (that is, just if we deal with a negative number)."
   ]
  },
  {
   "cell_type": "code",
   "execution_count": null,
   "metadata": {},
   "outputs": [],
   "source": [
    "# This code is correct but poorly designed\n",
    "\n",
    "n = int(input('Number to analyse: '))\n",
    "\n",
    "if n > 0:\n",
    "    print('{} is a positive number'.format(n))\n",
    "    \n",
    "if n%2 == 0: #For even numbers, the Modulus with respect to 2 is zero.\n",
    "    print('{} is an even number'.format(n))\n",
    "else: \n",
    "    print('{} is an odd number'.format(n))"
   ]
  },
  {
   "cell_type": "markdown",
   "metadata": {},
   "source": [
    "If you tried running this code, you may have noticed that it is correct just for positive integers. Why? Because when asking Python to print the sign of the number, we are not giving him an alternative in case the number is not positive. If the number is actually -5, Python checks if -5 is bigger than zero. Since it is not, it continues checking. The next condition that is checked concerns the parity of the number. "
   ]
  },
  {
   "cell_type": "code",
   "execution_count": null,
   "metadata": {},
   "outputs": [],
   "source": [
    "# This code is correct and better designed\n",
    "n = int(input('Number to analyse: '))\n",
    "\n",
    "if n > 0:\n",
    "    sign = 'positive' #if n > 0 create a new variable named sign, then assign the string value positive to this variable. \n",
    "elif n < 0: #if, instead n < 0 store the string value negative. (why not else? because we have the zero!!, if i write else, 0 is neither pos nor neg, )\n",
    "    sign = 'negative' #if i have else. else would tell me sign takes the vaue of negative, but it is not true for zero!! just because the first condition was not true (zero is not bigger than zero)\n",
    "\n",
    "if n%2 == 0:\n",
    "    parity = 'even' #variable called parity that stores the string values even or odd.\n",
    "else:\n",
    "    parity = 'odd'\n",
    "    \n",
    "print('{} is a'.format(n),sign,'and an',parity,'number.') #explain this."
   ]
  },
  {
   "cell_type": "markdown",
   "metadata": {},
   "source": [
    "Why is this code correct? For every integer, positive or negative, odd or even, it shows us what we want to see. It basically creates a variable named *sign* and stores a string value depending on the sign of the number. If the number is positive, the variable stores the **string** value *positive* and vice-versa. Why are we using the elif statement when looking for the sign? Because the subsequent condition is not the only one left - n could also be equal to zero, and zero is neither positive nor negative. The second part of the code does the same thing"
   ]
  },
  {
   "cell_type": "markdown",
   "metadata": {},
   "source": [
    "# Iteration\n",
    "In computer science iteration are referred as to loops, which allow codes to be executed repeatedly. There are some situations, where iteration becoes very helpful, we will see a couple of such situations. There are basically more loops in Python: for now we will see the **for** and the **while** loop.\n",
    "- - -\n",
    "## The for loop\n",
    "For loops are used when the user has a block of code which he wants to repeat a fixed number of times. The Python **for** statement iterates over the members of a sequence **in order**, executing the block each time. Let't look at the basic pseudocode:\n",
    "<pre><code><div style=\"background-color:rgb(217, 237, 247)\">1: for (condition) do\n",
    "2:   Statements   \n",
    "3: end for\n",
    "</div></code></pre>\n",
    "Here is a simple example: "
   ]
  },
  {
   "cell_type": "code",
   "execution_count": null,
   "metadata": {},
   "outputs": [],
   "source": [
    "for i in range(5):    #for the variable i beign in the range of 5, that is, for i beign in the following range: [0, 1, 2, 3, 4]. the range starts from 0 and doesn't include the mentioned value, in this case, 5.\n",
    "    print(i)     #for each of the values in the range, make i refer to them."
   ]
  },
  {
   "cell_type": "markdown",
   "metadata": {},
   "source": [
    "Each time it goes through the loop, the program assignes i to a different element of the range. That is, in a first sequence, the program encounters the value 0. This makes first *i* refer to this element of the range. Then it repeats the procedure: it goes through the range. Since the value 0 has already been mentioned, the program skips this element and lets i refer to the second element (1). This procedure goes on until every element of the range has been mentioned. As you can see, the for loop runs for a fixed amount of times - in this case, 5. <br>\n",
    "If you already looked at the file [03_Multiple.ipynb\n",
    "](https://www.dropbox.com/s/smp3jnhx86lg8ye/03_Multiple.ipynb?dl=0 \"1st Exercise\") you may have noticed, that the code uses the for loop."
   ]
  },
  {
   "cell_type": "markdown",
   "metadata": {},
   "source": [
    "## The while loop\n",
    "The while loop, like the for loop, is used for repeating sections of code, but unlike a for loop, the while loop will not run for a fixed amount of times. Instead it will repead until a specific condition is no longer met. That is, the code that is in a while block will execute as long as the while statement evaluates to True. If the condition is initially false, the loop will not be executed at all. Here is the pseudocode:\n",
    "\n",
    "<pre><code><div style=\"background-color:rgb(217, 237, 247)\">1: while (condition) do\n",
    "2:   Statements   \n",
    "3: end while\n",
    "</div></code></pre>\n",
    "\n",
    "Here is an example:"
   ]
  },
  {
   "cell_type": "code",
   "execution_count": null,
   "metadata": {},
   "outputs": [],
   "source": [
    "i = 4  #We take 4 as the initial value of the variable i.\n",
    "while i < 9:  #We are asking Python to run a loop that adds an increasing i to 2. When the desired result (9) is achieved, we ask Python to interrupt the loop.\n",
    "    print(i)\n",
    "    i = i+2"
   ]
  },
  {
   "cell_type": "markdown",
   "metadata": {},
   "source": [
    "As we saw, using the for loop and the while loop in Python allow you to automate and repeat tasks, which can be very useful in different situations. But sometimes, there might be an external factor that could influence our program. You might face situations, in which you want the program to interrupt a loop completely or skip  a part of it. Therefore, there is a possibility to enrich the way the for and the while loops work: using the break and the continue statement:\n",
    "\n",
    "## The break statement\n",
    "\n",
    "The break statement provides you with the opportunity to exit out of a loop when the program encounters an external condition. Here you will find how the basic pseudocode is constructed. Furthermore you will find an example to see how to use the while statement in a for loop in Python:\n",
    "\n",
    "<pre><code><div style=\"background-color:rgb(217, 237, 247)\">1: for (condition) do\n",
    "2:   Statements   \n",
    "3:   if (condition) then\n",
    "4:      break\n",
    "5:   end if\n",
    "6: end for\n",
    "</div></code></pre>"
   ]
  },
  {
   "cell_type": "code",
   "execution_count": null,
   "metadata": {},
   "outputs": [],
   "source": [
    "number = 0 #the variable number is initialized at 0. \n",
    "\n",
    "for number in range(10):  #Then a for statement constructs the loop as long as the variable number is less than 10.\n",
    "   number = number + 1  #Within the for loop, the number increases incrementally by 1 with each pass because of the line number = number + 1.\n",
    "\n",
    "   if number == 5:\n",
    "      break    # Then, there is an if statement with condition that if the variable number is equivalent to the integer 5, then the loop will break.\n",
    "\n",
    "   print('Number is ' + str(number)) #Within the loop is also a print() statement that will execute with each iteration of the for loop until the loop breaks, since it is after the break statement.\n",
    "\n",
    "print('Out of loop')"
   ]
  },
  {
   "cell_type": "markdown",
   "metadata": {},
   "source": [
    "## The continue statement\n",
    "\n",
    "This statement gives you the option to skip over the part of a loop where an external condition is met, but to go on to complete the rest of the loop. As for the break statement, let's see the basic pseudocode and an example similar to the example above:\n",
    "\n",
    "<pre><code><div style=\"background-color:rgb(217, 237, 247)\">1: for (condition) do\n",
    "2:   Statements   \n",
    "3:   if (condition) then\n",
    "4:      continue\n",
    "5:   end if\n",
    "6: end for\n",
    "</div></code></pre>"
   ]
  },
  {
   "cell_type": "code",
   "execution_count": null,
   "metadata": {},
   "outputs": [],
   "source": [
    "number = 0\n",
    "\n",
    "for number in range(10):\n",
    "   number = number + 1\n",
    "\n",
    "   if number == 5:\n",
    "      continue    # The continue statement causes a program to skip certain factors that come up within a loop, but then continue through the rest of the loop.\n",
    "\n",
    "   print('Number is ' + str(number))\n",
    "\n",
    "print('Out of loop')  #If you try running the code, you will see that every number between 0 and 10 will be displayed, but not 5. The difference in using the continue statement rather than a break statement is that our code will continue despite the disruption when the variable number is evaluated as equivalent to 5"
   ]
  }
 ],
 "metadata": {
  "kernelspec": {
   "display_name": "Python 3",
   "language": "python",
   "name": "python3"
  },
  "language_info": {
   "codemirror_mode": {
    "name": "ipython",
    "version": 3
   },
   "file_extension": ".py",
   "mimetype": "text/x-python",
   "name": "python",
   "nbconvert_exporter": "python",
   "pygments_lexer": "ipython3",
   "version": "3.5.2"
  }
 },
 "nbformat": 4,
 "nbformat_minor": 2
}
