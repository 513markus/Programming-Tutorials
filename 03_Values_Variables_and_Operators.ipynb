{
 "cells": [
  {
   "cell_type": "markdown",
   "metadata": {},
   "source": [
    "# Table of contents\n",
    "**!¡!¡ Missing**"
   ]
  },
  {
   "cell_type": "markdown",
   "metadata": {},
   "source": [
    "# Types of values\n",
    "We say that computers compute in **binary**, which is like counting in base of 2 and by chunk of 8\n",
    "\n",
    "example : \n",
    "\n",
    "<code>my_number = 1 => 00000001 in binary </code>\n",
    "\n",
    "<code>2 = 00000010 in binary </code>\n",
    "\n",
    "<code>3 = 00000011 in binary </code>\n",
    "\n",
    "## What is a variable?\n",
    "A variable is a name that stores a value. Variables makes it easier for humans to understand and difference the values. If we tell python that n = 1, the computer will remember that n is equal to 1. This can also be used for storing lists or matrices. \n",
    "\n",
    "There are also simple rules we should follow when naming variables. Such as always only using lowercase, because some languages have differences between upper- and lowercase. The rest of the rules are in the class slides. \n",
    "\n",
    "## In python\n",
    "### Boolean : True or False\n",
    "example : \n",
    "\n",
    "<code>rainy_day = **True**</code>\n",
    "    \n",
    "### Integer : All whole numbers \n",
    "    {....,-2,-1,0,1,2,...}\n",
    "example : Integers are use for iterators variables usually, and for any discrete mathematics\n",
    "\n",
    "<code>my_integer = **1** </code>\n",
    "    \n",
    "### Float : All non-whole numbers like 3.145 or 0.01\n",
    "example : For any decimal number\n",
    "\n",
    " <code>my_float = **3.145**</code>\n",
    "### String : String of characters like \"Hello\"\n",
    "example : For any string / text you want\n",
    "\n",
    " <code>my_string = **\"Hello\"**</code>"
   ]
  },
  {
   "cell_type": "markdown",
   "metadata": {},
   "source": [
    "# Variables names\n",
    "1. Always **lowercase**\n",
    "\n",
    "    Avoid : <code>My_String = **\"Hello\"**</code>\n",
    "2. **Avoid non letter**\n",
    "\n",
    "    Avoid :<code>my_3 = **\"Hello\"**</code>\n",
    "3. Be **explicit** in your variable names, the better the name the less comments are needed !\n",
    "\n",
    "    Avoid :<code>string_3_box = \"**My string**\"</code>"
   ]
  },
  {
   "cell_type": "markdown",
   "metadata": {},
   "source": [
    "# Operators\n",
    "Mathematical and Conditional operators are used when you want to apply a mathematical operation on one or more variables.\n",
    "Example : \n",
    "- Add two variables together : x + y $$x+y$$\n",
    "- Divide : x / y $$\\frac{x}{y}$$\n",
    "- Multiply : x * y $$x*y$$\n",
    "- Power : x ** y $$x^y$$\n",
    "- Integer division : x // y\n",
    "- Modulus : x%y\n",
    "\n",
    "Operators are functions that are already built in in python. Common operators are arithmetic (+ or -), comparison ( > ), logical operations (“and” or “or”), and assignments ( = ). \n",
    "To find other built in functions use Google. It’s important to understand what the operators do and their input to prevent mistakes."
   ]
  },
  {
   "cell_type": "markdown",
   "metadata": {},
   "source": [
    "# Built-in functions vs your own functions\n",
    "When optimizing your code, try to find if there is not already a **function/library** that could help you solve the problem. They are often **better designed** in order to be as efficient as possible.\n",
    "**It make no sense to reinvent the wheel**\n",
    "\n",
    "Sometimes you'll need some algorithms that are not built-in. For regressions, graph plotting, web-scraping, NLP, etc.. Here are the best libraries in python for data science/ML/NLP/data visualization :\n",
    "## Data Science in general\n",
    "- **matplotlib** : Data visualization and graph plotting\n",
    "- **numpy** : How to deal with data\n",
    "- **random** : Generate random numbers\n",
    "- **scipy** : Manipulating and visualizing data\n",
    "\n",
    "## Machine learning :\n",
    "- **scikit-learn** : data mining, and machine learning tasks : (regression, clustering, classification)\n",
    "- **Theano** : library that uses GPU for intensive computation\n",
    "- **TensorFlow** : Google framework for machine learning based projects\n",
    "\n",
    "## Web scraping and Natural language processing\n",
    "- **Scrapy** : Library designed for web scraping tasks (fetch data automatically on the web)\n",
    "- **NLTK** : library used for natural language processing (Analyzing texts and find correlations, etc...)\n",
    "- **Pattern** : All-in one library\n",
    "\n",
    "## Plotting and Visualization\n",
    "- **Seaborn** : Based on matplotlib library, this library is used to generate graphs in an easier way than matplotlib\n",
    "- **Bokeh** : Interactive, zoomable graphs. Based on modern web browser, it uses javascript to render the graph\n",
    "\n",
    "Sources : https://www.upwork.com/hiring/data/15-python-libraries-data-science/"
   ]
  },
  {
   "cell_type": "code",
   "execution_count": null,
   "metadata": {},
   "outputs": [],
   "source": []
  }
 ],
 "metadata": {
  "kernelspec": {
   "display_name": "Python 3",
   "language": "python",
   "name": "python3"
  },
  "language_info": {
   "codemirror_mode": {
    "name": "ipython",
    "version": 3
   },
   "file_extension": ".py",
   "mimetype": "text/x-python",
   "name": "python",
   "nbconvert_exporter": "python",
   "pygments_lexer": "ipython3",
   "version": "3.5.2"
  }
 },
 "nbformat": 4,
 "nbformat_minor": 2
}
