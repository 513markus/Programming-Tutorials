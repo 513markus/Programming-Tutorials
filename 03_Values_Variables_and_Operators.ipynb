{
 "cells": [
  {
   "cell_type": "markdown",
   "metadata": {},
   "source": [
    "# Table of contents\n",
    "**!¡!¡ Missing**"
   ]
  },
  {
   "cell_type": "markdown",
   "metadata": {},
   "source": [
    "# Types of values (Arnau)\n",
    "We say that computers compute in **binary**, which is like counting in base of 2 and by chunk of 8\n",
    "\n",
    "example : \n",
    "\n",
    "<code>my_number = 1 => 00000001 in binary </code>\n",
    "\n",
    "<code>2 = 00000010 in binary </code>\n",
    "\n",
    "<code>3 = 00000011 in binary </code>\n",
    "\n",
    "## What is a variable?\n",
    "A variable is a name that stores a value. Variables makes it easier for humans to understand and difference the values. If we tell python that n = 1, the computer will remember that n is equal to 1. This can also be used for storing lists or matrices. \n",
    "\n",
    "There are also simple rules we should follow when naming variables. Such as always only using lowercase, because some languages have differences between upper- and lowercase. The rest of the rules are in the class slides. \n",
    "\n",
    "## In python\n",
    "### Boolean : True or False\n",
    "example : \n",
    "\n",
    "<code>rainy_day = **True**</code>\n",
    "    \n",
    "### Integer : All whole numbers \n",
    "    {....,-2,-1,0,1,2,...}\n",
    "example : Integers are use for iterators variables usually, and for any discrete mathematics\n",
    "\n",
    "<code>my_integer = **1** </code>\n",
    "    \n",
    "### Float : All non-whole numbers like 3.145 or 0.01\n",
    "example : For any decimal number\n",
    "\n",
    " <code>my_float = **3.145**</code>\n",
    "### String : String of characters like \"Hello\"\n",
    "example : For any string / text you want\n",
    "\n",
    " <code>my_string = **\"Hello\"**</code>"
   ]
  },
  {
   "cell_type": "markdown",
   "metadata": {},
   "source": [
    "# Variables\n",
    "\n",
    "Variables are reserved memory space that is used to assign values. So when creating a variable, some space in memory is reserved for that particular variable.\n",
    "\n",
    "## Declaring Variables\n",
    "\n",
    "Use = to declare variable. The value to the left of the operator is used as the name of the variable and the value on the right of the operator is used as the value stored in the variable. Example:\n",
    "\n",
    "a = 1\n",
    "\n",
    "b = 2\n",
    "\n",
    "c = -3\n",
    "\n",
    "print(a) returns 1\n",
    "\n",
    "print(b) returns 2\n",
    "\n",
    "print(a, c) returns 1 and -3\n"
   ]
  },
  {
   "cell_type": "code",
   "execution_count": 1,
   "metadata": {},
   "outputs": [
    {
     "name": "stdout",
     "output_type": "stream",
     "text": [
      "1\n",
      "2\n",
      "1 -3\n"
     ]
    }
   ],
   "source": [
    "# You can run the code in this cell as an example.\n",
    "#Change the values for the variables a, b and c and check whether the output of the code changes\n",
    "\n",
    "a = 1\n",
    "b = 2\n",
    "c = -3\n",
    "\n",
    "print(a)\n",
    "\n",
    "print(b)\n",
    "\n",
    "print(a, c)"
   ]
  },
  {
   "cell_type": "markdown",
   "metadata": {},
   "source": [
    "### Multiple Assignment\n",
    "\n",
    "It is possible to assign a single value to several variables simultaneously. Example:\n",
    "\n",
    "x = y = z = 5\n",
    "\n",
    "print(x) returns 5\n",
    "\n",
    "print(y) returns 5\n",
    "\n",
    "print(z) returns 5\n",
    "\n",
    "print(x + y + z) returns 15"
   ]
  },
  {
   "cell_type": "code",
   "execution_count": null,
   "metadata": {},
   "outputs": [],
   "source": [
    "# Run the code in this cell as an example\n",
    "#You can change the value below to receive different results\n",
    "\n",
    "x = y = z = 5\n",
    "\n",
    "print(x)\n",
    "\n",
    "print(y)\n",
    "\n",
    "print(z)\n",
    "\n",
    "print(x + y + z)"
   ]
  },
  {
   "cell_type": "markdown",
   "metadata": {},
   "source": [
    "You can also assigns values to different variables in one line of code. To do so, separate the individual variables and the values assigned to them by commas.\n",
    "\n",
    "Example:\n",
    "\n",
    "x, y, z = 5, 6, 7\n",
    "\n",
    "This will assign the value 5 to the variable x, the value 6 to the variable y, and the value 7 to the variable z.\n",
    "\n",
    "print(x) will return 5\n",
    "\n",
    "print(y) will return 6\n",
    "\n",
    "print(z) will return 7\n",
    "\n",
    "print (z + y + z) will return 18"
   ]
  },
  {
   "cell_type": "code",
   "execution_count": null,
   "metadata": {},
   "outputs": [],
   "source": [
    "# You can run the code in this cell as an example\n",
    "# Change the values assigned to the variables x, y, and z to generate different output\n",
    "\n",
    "x, y, z = 5, 6, 7\n",
    "\n",
    "print(x)\n",
    "\n",
    "print(y)\n",
    "\n",
    "print(z)\n",
    "\n",
    "print(x + y + z)"
   ]
  },
  {
   "cell_type": "markdown",
   "metadata": {},
   "source": [
    "## Using Variables\n",
    "\n",
    "Use x instead of its assigned value 34. This often helps to make code more readable and avoids repetition of certain declared values. It also makes it easier to change the values of variables, since they can be changed once on the line where the variable is declared, instead of changing it everywhere in the code.\n",
    "\n",
    "Example:\n",
    "\n",
    "a = 2\n",
    "\n",
    "print(a + a ** a + (a / a)) will return the result of the formula depending on the value that is assigned to the variable a."
   ]
  },
  {
   "cell_type": "code",
   "execution_count": null,
   "metadata": {},
   "outputs": [],
   "source": [
    "# You can run the code in this cell as an example\n",
    "# Change the value assigned to the variable a and re-run the cell. Check if the result changes.\n",
    "\n",
    "a = 2\n",
    "\n",
    "print(a + a ** a + (a / a))"
   ]
  },
  {
   "cell_type": "code",
   "execution_count": null,
   "metadata": {},
   "outputs": [],
   "source": [
    "# Now we will look at a more special case. Look at the code below and before running the cell, guess what the output will be.\n",
    "# Then run the cell. Does the output match what you expected?\n",
    "\n",
    "a = 2\n",
    "\n",
    "b = a\n",
    "\n",
    "a = 3\n",
    "\n",
    "print(b)\n",
    "\n",
    "print(a)"
   ]
  },
  {
   "cell_type": "markdown",
   "metadata": {},
   "source": [
    "In the example above, it is important to remember that Python runs code line by line. This means, that in the second line of executed code, the variable b is assigned the same underlying value as variable a. In our example, since a was assigned the value 2 in line 1, the value assigned to variable b is 2. If we now assign the value 3 to variable a in the next line of code, this will not affect the value assigned to variable be. With other words, the value assigned to b is still 2. If we now print a and be, the output for them will be different, since we changed the value of a."
   ]
  },
  {
   "cell_type": "markdown",
   "metadata": {},
   "source": [
    "# Values\n",
    "\n",
    "Python knows five standard data types and these have some sub-types:\n",
    "- Strings\n",
    "- Numbers\n",
    "- List\n",
    "- Tuple\n",
    "- Dictionary\n",
    "\n",
    "## Types of Values\n",
    "\n",
    "### Strings\n",
    "\n",
    "Strings are values composed of characters that can form words and text. However, they don't need to make linguistic sense to be strings. They are written within quotation marks. Either pairs of single or double quotes can be use. Subsets of strings can be taken using the slice operator ([ ] and [:] ) with indexes starting at 0 in the beginning of the string and working their way from -1 at the end.\n",
    "\n",
    "The plus (+) sign is the string concatenation operator and the asterisk (*) is the repetition operator.\n",
    "\n",
    "Examples of strings would be: \"Hello World\", \"My name is Adam, Number 1.\", \"Barcelona es fantastic.\", \"dheysa fljsr, gfsiire saljtf\""
   ]
  },
  {
   "cell_type": "code",
   "execution_count": null,
   "metadata": {},
   "outputs": [],
   "source": [
    "# You can run the code in this cell as an example\n",
    "# We use the print() function to tell Python to output strings in the form of text in this example\n",
    "\n",
    "print(\"Hello World\")\n",
    "\n",
    "print(\"Numbers such as 1234 can also be printed as part of a string.\")\n",
    "\n",
    "print(\"We can also separate text by using commas\", \" as shown in this line of text.\")\n",
    "\n",
    "print(\"We can also use plus signs\" + \" to add text fragments to each other.\")\n",
    "\n",
    "print(\"Pay attention to \", \" spaces\" + \"when adding text\", \"so your out \" + \" put does not contain any\", \"typos.\")"
   ]
  },
  {
   "cell_type": "code",
   "execution_count": null,
   "metadata": {},
   "outputs": [],
   "source": [
    "# To use the other operator and to subset a string, we will create a variable called text containing the string \"Switzerland is small\" \n",
    "# We use the in-built function print() to generate output in Python\n",
    "text = \"Switzerland is small\"\n",
    "\n",
    "print(text) # This will simply output the sentence\n",
    "\n",
    "print(text + text) # This will output the sentence twice\n",
    "\n",
    "print(text * 3) # This will output the sentence three times\n",
    "\n",
    "print(text[0]) # This will create a subset \n",
    "\n",
    "print(text[5:15])\n",
    "\n",
    "print(text[:10])\n",
    "\n",
    "print(text[10:])"
   ]
  },
  {
   "cell_type": "markdown",
   "metadata": {},
   "source": [
    "### Subsets\n",
    "\n",
    "Subsets allow \n",
    "\n",
    "We use [] to subset a variable\n",
    "\n",
    "Keep in mind that the index in Python starts with 0, so the first position in a string, list, tuple etc. is indexed as 0. \n",
    "[1] refers to the second position."
   ]
  },
  {
   "cell_type": "markdown",
   "metadata": {},
   "source": [
    "### Numbers\n",
    "\n",
    "Python supports four different numerical types:\n",
    "\n",
    "- int (signed integers)\n",
    "- long (long integers, they can also be represented in octal and hexadecimal)\n",
    "- float (floating point real values)\n",
    "- complex (complex numbers)\n",
    "\n",
    "#### Integers\n",
    "\n",
    "Integers are whole numbers such as: 2, 6, 2368, -78, -9746286.\n",
    "\n",
    "#### Long Integers\n",
    "\n",
    "It is recommended that you use only an uppercase L to avoid confusion with the number 1. Python displays long integers with an uppercase L. Examples: 51924361L, 535633629843L\n",
    "\n",
    "#### Floats\n",
    "\n",
    "Floats are non-whole numbers, so values with any decimal, such as: 1.1, 0.00025, 134.56, -78.64, -12000.7, 5.0\n",
    "\n",
    "#### Complex Numbers\n",
    "\n",
    "A complex number consists of an ordered pair of real floating-point numbers denoted by x + yj, where x and y are the real numbers and j is the imaginary unit. Examples: 45.j, 9.322e-36j"
   ]
  },
  {
   "cell_type": "markdown",
   "metadata": {},
   "source": [
    "### Boolean\n",
    "\n",
    "Boolean values are either \"True\" or \"False\". They are usually the output of a function that includes a logical operator. We will explain later in the notebook what exactly a logical operator is, but simply put, it test if a statement is true or not."
   ]
  },
  {
   "cell_type": "code",
   "execution_count": null,
   "metadata": {},
   "outputs": [],
   "source": [
    "# Go through the lines of code below and determine if this statements are true or false.\n",
    "# Then run the code in this cell to check if you are correct.\n",
    "# Once you are done, you can change the values and re-run the cell, to check if the output changes.\n",
    "\n",
    "a = a\n",
    "\n",
    "\"Python\" = \"Python\"\n",
    "\n",
    "\"Panda\" = \"Bear\"\n",
    "\n",
    "a = b"
   ]
  },
  {
   "cell_type": "markdown",
   "metadata": {},
   "source": [
    "### Lists\n",
    "\n",
    "Lists are the most versatile of Python's compound data types. A list contains items separated by commas and enclosed within square brackets ([]). To some extent, lists are similar to arrays in C. One difference between them is that all the items belonging to a list can be of different data type.\n",
    "\n",
    "The values stored in a list can be accessed using the slice operator ([ ] and [:]) with indexes starting at 0 in the beginning of the list and working their way to end -1. The plus (+) sign is the list concatenation operator, and the asterisk (*) is the repetition operator."
   ]
  },
  {
   "cell_type": "code",
   "execution_count": null,
   "metadata": {},
   "outputs": [],
   "source": [
    "# You can run the code in this cell to create lists, print them and to subset them.\n",
    "\n",
    "number_list = [1, 2, 3, 4, 5, 6, 7, 8, 9, 10]\n",
    "\n",
    "string_list = [\"Hello\", \",\", \"how\", \"are\", \"you\", \"?\"]\n",
    "\n",
    "mixed_list = [1, \"I\", 5.6, \"goodbye\"]\n",
    "\n",
    "print(number_list)\n",
    "\n",
    "print(string_list)\n",
    "\n",
    "print(mixed_list)\n",
    "\n",
    "print(mixed_list[1, 3])\n",
    "\n",
    "print(number_list[5:])"
   ]
  },
  {
   "cell_type": "markdown",
   "metadata": {},
   "source": [
    "### Tuples\n",
    "\n",
    "A  tuple is another sequence data type that is similar to the list. A tuple consists of a number of values separated by commas. Unlike lists, however, tuples are enclosed within parentheses.\n",
    "\n",
    "The main differences between lists and tuples are: Lists are enclosed in brackets ( [ ] ) and their elements and size can be changed, while tuples are enclosed in parentheses ( ( ) ) and cannot be updated. Tuples can be thought of as read-only lists."
   ]
  },
  {
   "cell_type": "code",
   "execution_count": null,
   "metadata": {},
   "outputs": [],
   "source": [
    "# You can run the code in this cell to create some tuples, print them and subset them\n",
    "# In this example, the tuples behave exactly as lists would\n",
    "\n",
    "number_tuple = (1, 2, 3, 4, 5, 6, 7, 8, 9, 10)\n",
    "\n",
    "string_tuple = (\"Hello\", \",\", \"how\", \"are\", \"you\", \"?\")\n",
    "\n",
    "mixed_tuple = (1, \"I\", 5.6, \"goodbye\")\n",
    "\n",
    "print(number_tuple)\n",
    "\n",
    "print(string_tuple)\n",
    "\n",
    "print(mixed_tuple)\n",
    "\n",
    "print(mixed_tuple[1, 3])\n",
    "\n",
    "print(number_tuple[5:])"
   ]
  },
  {
   "cell_type": "code",
   "execution_count": null,
   "metadata": {},
   "outputs": [],
   "source": [
    "# The difference between lists and tuples becomes clearer, when we try to update the data contained therein\n",
    "\n",
    "new_list = [1, 2, 2, 4, 5]\n",
    "\n",
    "new_tuple = (1, 2, 2, 4, 5)\n",
    "\n",
    "new_list[2] = 3\n",
    "\n",
    "new_tuple[2] = 3\n",
    "\n",
    "# It is possible to update the list, but not the tuple. Tuples are read-only."
   ]
  },
  {
   "cell_type": "markdown",
   "metadata": {},
   "source": [
    "### Dictionaries \n",
    "\n",
    "Dictionaries are kind of hash table type. They work like associative arrays or hashes found in Perl and consist of key-value pairs. A dictionary key can be almost any Python type, but are usually numbers or strings. Values, on the other hand, can be any arbitrary Python object.\n",
    "\n",
    "Dictionaries are enclosed by curly braces ({ }) and values can be assigned and accessed using square braces ([])\n",
    "\n",
    "Dictionaries have no concept of order among elements. It is incorrect to say that the elements are \"out of order\"; they are simply unordered."
   ]
  },
  {
   "cell_type": "code",
   "execution_count": null,
   "metadata": {},
   "outputs": [],
   "source": [
    "# You can run the code in this cell to create a simple dictionarie\n",
    "\n",
    "dictionary1 = {1 : \"a\", 2 : \"b\", 3 : \"c\", 4 : \"d\"}\n",
    "\n",
    "print(dictionary1)\n",
    "\n",
    "print(dictionary1[0:2])\n",
    "\n",
    "print(dictionary1.keys()) # Print only the keys of the dictionary\n",
    "\n",
    "print(dicitionary.values()) # Print only the values of the dictionary"
   ]
  },
  {
   "cell_type": "code",
   "execution_count": null,
   "metadata": {},
   "outputs": [],
   "source": [
    "# Here is another example of a dicitionary\n",
    "\n",
    "GerEngDictionary = {\"Hallo\" : \"Hello\", \"Auf Wiedersehen\" : \"Goodbye\", \"Gut\" : \"Good\", \"Schlecht\" : \"Bad\"}\n",
    "\n",
    "print(GerEngDictionary)"
   ]
  },
  {
   "cell_type": "markdown",
   "metadata": {},
   "source": [
    "## Data Type Conversion\n",
    "\n",
    "Sometimes, you may need to perform conversions between the built-in types. To convert between types, you simply use the type name as a function.\n",
    "\n",
    "There are several built-in functions to perform conversion from one data type to another. These functions return a new object representing the converted value.\n",
    "\n",
    "| Function | Description | Example |\n",
    "|----------|-------------|---------|\n",
    "| int(x [,base]) | Converts x to an integer, base specifies the base if x is a string | int(4.0) will return 4 |\n",
    "| long(x [,base]) | Converts x to a long integer, base specifies the base if x is a string | |\n",
    "| float(x) | Converts x to a floating-point number | float(4) could return 4.0??? |\n",
    "| complex() | Creates a complex number | |\n",
    "| str() | Converts to a string representation | |\n",
    "| repr() | Converts to an expression string | |\n",
    "| eval(str) | Evaluates a string and returns an object | |\n",
    "| tuple(l) | Converts l to a tuple | |\n",
    "| list (l) | Converts l to a list | |\n",
    "| set(l) | Converts l to a set | |\n",
    "| dict(t) | Creates a dictionary. t must be a sequence of (key, value) tuples | |\n",
    "| frozenset(l) | Converts l to a frozen set | |\n",
    "| chr(a) | Converts an integer to a character | chr(4) returns \"4\" |\n",
    "| unichr(a) | Converts an integer to unicode character | |\n",
    "| ord(a) | Converts a single character to its integer value | |\n",
    "| hex(a) | Converts an integer to it hexadecimal string | |\n",
    "| oct(a) | Converts an integer to an octal string | |"
   ]
  },
  {
   "cell_type": "code",
   "execution_count": null,
   "metadata": {},
   "outputs": [],
   "source": [
    "# Run the code in this cell to convert the data type of the variables below\n",
    "# The function type() checks the data type of a variable. We use type() to show that the data type conversion worked\n",
    "\n",
    "a = 4.0\n",
    "\n",
    "print(type(a))\n",
    "int(a)\n",
    "print(type(a))\n",
    "\n",
    "b = 5.0\n",
    "\n",
    "print(type(b))\n",
    "str(b)\n",
    "print(type(b))"
   ]
  },
  {
   "cell_type": "markdown",
   "metadata": {},
   "source": [
    "# Operators (Arnau)\n",
    "Mathematical and Conditional operators are used when you want to apply a mathematical operation on one or more variables.\n",
    "Example : \n",
    "- Add two variables together : x + y $$x+y$$\n",
    "- Divide : x / y $$\\frac{x}{y}$$\n",
    "- Multiply : x * y $$x*y$$\n",
    "- Power : x ** y $$x^y$$\n",
    "- Integer division : x // y\n",
    "- Modulus : x%y\n",
    "\n",
    "Operators are functions that are already built in in python. Common operators are arithmetic (+ or -), comparison ( > ), logical operations (“and” or “or”), and assignments ( = ). \n",
    "To find other built in functions use Google. It’s important to understand what the operators do and their input to prevent mistakes."
   ]
  },
  {
   "cell_type": "markdown",
   "metadata": {},
   "source": [
    "# Operators\n",
    "\n",
    "## Arithmetic Operators\n",
    "\n",
    "Arithmetic operators are basic mathimatical functions. They work with number values, but some also work with strings and other values.\n",
    "\n",
    "| Symbol | Name | Description | Example |\n",
    "|--------|------|-------------|---------|\n",
    "| + | Addition | Adds values on either side of the operator | 1 + 1 = 2 |\n",
    "| - | Subtraction | Subtracts values on right side of the operator from left side of operator | 2 - 1 = 1 |\n",
    "| * | Multiplication | Multiplies the value on the right side of the operator with the value on the left side | 2 * 3 = 6 |\n",
    "| / | Division | Divides the value on the left side of the operator by the value on the right side | 6 / 3 = 2 |\n",
    "| % | Modulus | Divides the value on the left side of the operator by the value on the right side and returns the remainder | 7 % 3 = 1 |\n",
    "| ** | Exponent | Performs exponential (power) operation on the value oon the left of the operator | 2 ** 3 = 8 |\n",
    "| // | Floor Division | The division of operands where the result is the quotient in which the digits after the decimal point are removed. But if one of the operands is negative, the result is floored, i.e., rounded away from zero (towards negative infinity) | 9 // 2 = 4 |"
   ]
  },
  {
   "cell_type": "code",
   "execution_count": null,
   "metadata": {},
   "outputs": [],
   "source": [
    "# You can run the code in this cell to perform some basic math in Python\n",
    "\n",
    "1 + 1\n",
    "\n",
    "2 - 1\n",
    "\n",
    "2 * 3\n",
    "\n",
    "6 / 3\n",
    "\n",
    "7 % 3\n",
    "\n",
    "2 ** 3\n",
    "\n",
    "9 // 2"
   ]
  },
  {
   "cell_type": "code",
   "execution_count": null,
   "metadata": {},
   "outputs": [],
   "source": [
    "# It is also possible to combine these operators\n",
    "# We will cover below the precedence the operators take. Keep in mind that expressions within parentheses are executed first.\n",
    "\n",
    "2 + 3 * 2\n",
    "\n",
    "(2 + 3) * 2\n",
    "\n",
    "5 ** 2 + 1\n",
    "\n",
    "5 ** (2 + 1)"
   ]
  },
  {
   "cell_type": "markdown",
   "metadata": {},
   "source": [
    "## Boolean Operators\n",
    "\n",
    "Boolean operators compare the values on either sides of them and decide the relation among them. They are also called Comparison or Relational operators. The output of operations with a Boolean operator will be a Boolean value (True, False).\n",
    "\n",
    "| Symbol | Description | Example |\n",
    "|--------|-------------|---------|\n",
    "| == | Checks if values on either side are equal | 2 == 2 returns True |\n",
    "| != | Checks if values on either side are not equal | 2 != 3 returns True |\n",
    "| <> | Also checks if values on either side are not equal | 2 <> 2 returns False |\n",
    "| > | Value on the left greater than value on the right | 5 > 2 returns True |\n",
    "| < | Value on the left smaller than value on the right | 5 < 2 returns False |\n",
    "| >= | Value on the left greater or equal to value on the right | 3 >= 2 returns True |\n",
    "| <= | Value on the left smaller or equal to value on the right | 2 <= 2 returns True |"
   ]
  },
  {
   "cell_type": "code",
   "execution_count": null,
   "metadata": {},
   "outputs": [],
   "source": [
    "# You can run the code in this cell to use Boolean operators in practise\n",
    "\n",
    "2 == 2\n",
    "\n",
    "2 != 3\n",
    "\n",
    "2 <> 2\n",
    "\n",
    "5 > 2\n",
    "\n",
    "5 < 2\n",
    "\n",
    "3 >= 2\n",
    "\n",
    "2 <= 2"
   ]
  },
  {
   "cell_type": "markdown",
   "metadata": {},
   "source": [
    "## Assignment Operators\n",
    "\n",
    "Assignment operators are used to define variables or to update the value of variables.\n",
    "\n",
    "| Symbol | Description | Example |\n",
    "|--------|-------------|---------|\n",
    "| = | Assigns values on the right side of the operator to the variable on the left side | a = b assigns value of b to a |\n",
    "| += | Adds value on right side of operator to value on the left and assigns the result to the value on the left | a += b returns the same as a = a + b |\n",
    "| -= | Subtracts value on the right side of the operator from the value on the left and assigns the result to the value on the left | a -= b returns the same result as a = a - b |\n",
    "| *= | Multiplies value on the right with the value on the left side of the operator and assigns the result to the value on the left | a *= b returns the same result as a = a * b |\n",
    "| /= | Divides the value on the left side of the operator with the value on the right and assigns the result to the value on the left | a /= b returns the same result as a = a / b |\n",
    "| %= | Divides the value on the left side of the operator by the value on the right side and assigns the remainer to the value on the left side | a %= b returns the same result as a = a % b |\n",
    "| **= | Performs exponential (power) operation on the value on the left side and assigns the result to the value on the left side | a **= 2 returns the same result as a = a ** 2 |\n",
    "| //= | It performs floor division on operators and assign value to the left operand | c //= a returns the same result as c = c // a |"
   ]
  },
  {
   "cell_type": "code",
   "execution_count": null,
   "metadata": {},
   "outputs": [],
   "source": [
    "# Run the code in this cell to use the Addition/Assignment operator\n",
    "\n",
    "a = 1\n",
    "\n",
    "b = 2\n",
    "\n",
    "a += b\n",
    "\n",
    "print(a)"
   ]
  },
  {
   "cell_type": "code",
   "execution_count": null,
   "metadata": {},
   "outputs": [],
   "source": [
    "# Run the code in this cell to use the Division/Assignment operator\n",
    "\n",
    "a = 15\n",
    "\n",
    "b = 5\n",
    "\n",
    "a /= b\n",
    "\n",
    "print(a)"
   ]
  },
  {
   "cell_type": "markdown",
   "metadata": {},
   "source": [
    "## Logical Operators\n",
    "\n",
    "Logical Operators are used to reverse the logical state of its operand. They can also add conditions that need to be met for a statement to be true.\n",
    "\n",
    "| Symbol | Description | Example |\n",
    "|--------|-------------|---------|\n",
    "| and | Adds a condition that needs to be met | a < 4 and a > 2 only returns True if integer value of a is 3 |\n",
    "| or | Adds alternative condition | |\n",
    "| not | Reverses logical state | |"
   ]
  },
  {
   "cell_type": "code",
   "execution_count": null,
   "metadata": {},
   "outputs": [],
   "source": [
    "# You can run the code in this cell to use the logical operators\n",
    "\n",
    "a = 3\n",
    "\n",
    "a < 4 and a > 2\n",
    "\n",
    "b = 5\n",
    "\n",
    "b > 4 and not < 3\n",
    "\n",
    "a or b > 4"
   ]
  },
  {
   "cell_type": "markdown",
   "metadata": {},
   "source": [
    "## Membership Operators\n",
    "\n",
    "Membership operators test if a certain value is part of a string, list or tuple.\n",
    "\n",
    "| Symbol | Description | Example |\n",
    "|--------|-------------|---------|\n",
    "| in | Checks if a certain value is part of a certain sequence. Returns True of it is, otherwise it returns False | a in b returns True if a is part of sequence b |\n",
    "| not in | Checks is a certain value is not part of a certain sequence. Returns True if it is not, otherwise (i.e. if the value is part of the sequence) it returns False | a not in b returns False, if a is part of sequence b |"
   ]
  },
  {
   "cell_type": "code",
   "execution_count": null,
   "metadata": {},
   "outputs": [],
   "source": [
    "# You can run the code in this cell to create a list and then check if certain values are part of the list\n",
    "\n",
    "list = [1, 3, 5, 7, 9]\n",
    "\n",
    "1 in list\n",
    "\n",
    "2 in list\n",
    "\n",
    "3 in list\n",
    "\n",
    "4 in list\n",
    "\n",
    "5 in list\n",
    "\n",
    "6 not in list\n",
    "\n",
    "7 not in list\n",
    "\n",
    "8 not in list\n",
    "\n",
    "9 not in list"
   ]
  },
  {
   "cell_type": "markdown",
   "metadata": {},
   "source": [
    "## Identity Operators\n",
    "\n",
    "Identity Operators compare the memory location of two objects.\n",
    "\n",
    "| Symbol | Description | Example |\n",
    "|--------|-------------|---------|\n",
    "| is | Checks if the values on either side point to the same location in memory. If they do it returns True, otherwise it returns False | a is b will return True if id(a) equals id(b) |\n",
    "| is not | Checks if the values on either side point to a different location in memory. If they do it returns True, otherwise (i.e. if they point to the same location in memory) it returns False | a is not b will return True if id(a) does not equal id(b) |"
   ]
  },
  {
   "cell_type": "code",
   "execution_count": null,
   "metadata": {},
   "outputs": [],
   "source": [
    "# You can run the code in this cell to create variables and check them against each other\n",
    "\n",
    "a = 2\n",
    "\n",
    "b = 3\n",
    "\n",
    "c = 4\n",
    "\n",
    "d = 2\n",
    "\n",
    "e = 3\n",
    "\n",
    "a is d\n",
    "\n",
    "a is b\n",
    "\n",
    "c is 2 * a\n",
    "\n",
    "b ** a is e ** d"
   ]
  },
  {
   "cell_type": "markdown",
   "metadata": {},
   "source": [
    "## Binary Operators\n",
    "\n",
    "Binary operators are also known as bitwise operators. They work on bits and perform operations bit by bit.\n",
    "\n",
    "| Symbol | Name | Description | Example |\n",
    "|--------|-------------|---------|\n",
    "| & | Binary AND | Operator copies a bit to the result if it exists in both operands | |\n",
    "|  | Binary OR | It copies a bit if it exists in either operand | |\n",
    "| ^ | Binary XOR | It copies the bit if it is set in one operand but not both | |\n",
    "| ~ | Binary Ones Complement | It is unary and has the effect of 'flipping' bits. | |\n",
    "| << | Binary Left Shift | | |\n",
    "| >> | Binary Right Shift | | |"
   ]
  },
  {
   "cell_type": "code",
   "execution_count": null,
   "metadata": {},
   "outputs": [],
   "source": []
  },
  {
   "cell_type": "markdown",
   "metadata": {},
   "source": [
    "## Ranking of Operators\n",
    "\n",
    "Operators are executed in a certain order. Being aware of the precedence that operators take when Python executes code is critical. The table below shows which operations are executed first in descending order.\n",
    "\n",
    "| Precedence | Operator | Description |\n",
    "|------------|----------|-------------|\n",
    "| 1 | ** | Exponentiation (Raise to the power) |\n",
    "| 2 | ~ + - | Complement, Unary plus and minus |\n",
    "| 3 | * / % // | Multiplication, Division, Modulo and Floor Division |\n",
    "| 4 | + - | Addition and Subtraction |\n",
    "| 5 | << >> | Right bit-wise shift and left bit-wise shift |\n",
    "| 6 | & | Bit-wise AND |\n",
    "| 7 | ^ \\ | Bitwise exclusive OR  and regular OR |\n",
    "| 8 | > < >= <= | Comparison operators |\n",
    "| 9 | == != <> | Equality operators |\n",
    "| 10 | = += -= *= /= %= **= //= | Assignment operators |\n",
    "| 11 | 'is' 'is not' | Identity operators |\n",
    "| 12 | 'in' 'not in' | Membership operators |\n",
    "| 13 | 'not' 'or' 'and' | Logical operators |"
   ]
  },
  {
   "cell_type": "markdown",
   "metadata": {},
   "source": [
    "# Built-in functions vs your own functions (Arnau)\n",
    "When optimizing your code, try to find if there is not already a **function/library** that could help you solve the problem. They are often **better designed** in order to be as efficient as possible.\n",
    "**It make no sense to reinvent the wheel**\n",
    "\n",
    "Sometimes you'll need some algorithms that are not built-in. For regressions, graph plotting, web-scraping, NLP, etc.. Here are the best libraries in python for data science/ML/NLP/data visualization :\n",
    "## Data Science in general\n",
    "- **matplotlib** : Data visualization and graph plotting\n",
    "- **numpy** : How to deal with data\n",
    "- **random** : Generate random numbers\n",
    "- **scipy** : Manipulating and visualizing data\n",
    "\n",
    "## Machine learning :\n",
    "- **scikit-learn** : data mining, and machine learning tasks : (regression, clustering, classification)\n",
    "- **Theano** : library that uses GPU for intensive computation\n",
    "- **TensorFlow** : Google framework for machine learning based projects\n",
    "\n",
    "## Web scraping and Natural language processing\n",
    "- **Scrapy** : Library designed for web scraping tasks (fetch data automatically on the web)\n",
    "- **NLTK** : library used for natural language processing (Analyzing texts and find correlations, etc...)\n",
    "- **Pattern** : All-in one library\n",
    "\n",
    "## Plotting and Visualization\n",
    "- **Seaborn** : Based on matplotlib library, this library is used to generate graphs in an easier way than matplotlib\n",
    "- **Bokeh** : Interactive, zoomable graphs. Based on modern web browser, it uses javascript to render the graph\n",
    "\n",
    "Sources : https://www.upwork.com/hiring/data/15-python-libraries-data-science/"
   ]
  },
  {
   "cell_type": "code",
   "execution_count": null,
   "metadata": {},
   "outputs": [],
   "source": []
  }
 ],
 "metadata": {
  "kernelspec": {
   "display_name": "Python 3",
   "language": "python",
   "name": "python3"
  },
  "language_info": {
   "codemirror_mode": {
    "name": "ipython",
    "version": 3
   },
   "file_extension": ".py",
   "mimetype": "text/x-python",
   "name": "python",
   "nbconvert_exporter": "python",
   "pygments_lexer": "ipython3",
   "version": "3.6.5"
  }
 },
 "nbformat": 4,
 "nbformat_minor": 2
}
